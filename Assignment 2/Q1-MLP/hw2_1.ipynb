{
  "cells": [
    {
      "cell_type": "code",
      "execution_count": 1,
      "metadata": {
        "id": "i7I7O1kv0S21"
      },
      "outputs": [],
      "source": [
        "# Feel free to import any other libraries and modules.\n",
        "import numpy as np\n",
        "import matplotlib.pyplot as plt\n",
        "import torch\n",
        "from torchvision import datasets, transforms\n",
        "import torch.nn.functional as F\n",
        "from torch.utils.data import TensorDataset, DataLoader\n",
        "from torch import nn"
      ]
    },
    {
      "cell_type": "markdown",
      "metadata": {
        "id": "CeXRppkryQBV"
      },
      "source": [
        "# Part One: Optimization Algorithms\n",
        "## 1. Gradient Descent\n",
        "The Gradient Descent (GD) algorithm finds the minimum of a given\n",
        "function by taking small steps along the function's gradient:\n",
        "\n",
        ">$\\Theta \\leftarrow \\Theta_0$\n",
        "\n",
        ">**while** stop condition not met **do**\n",
        "\n",
        ">$~~~~$$\\Theta \\leftarrow \\Theta - \\alpha \\nabla_\\Theta f(\\Theta)$\n",
        "\n",
        ">**end while**\n",
        "\n",
        "where $f$ is the function to minimize, $\\nabla_\\Theta f(\\Theta)$\n",
        "denotes $f$'s gradient at $\\Theta$ and $\\alpha$ is the learning rate.\n",
        "\n",
        "**Task1:** Implement the GD algorithm as a function:\n",
        "\n",
        "  \\begin{equation}\n",
        "      \\Theta_{opt} = \\text{GD}(f, \\Theta_0, \\alpha, \\rho)\n",
        "  \\end{equation}\n",
        "where $f$ is a function returning the cost and its gradient with respect to parameter vector $\\Theta$, $\\Theta_0$ is the initial value, and $\\alpha$\n",
        "is the learning rate. You can assume that $\\alpha$. remains constant during the optimization. $\\rho$ is stop condition. \\\\\n",
        "Then, use the GD algorithm to find the optimum of the [Rosenbrock function](https://en.wikipedia.org/wiki/Rosenbrock_function) (Consider $a=1, b=100$).\n",
        " \\\\\n",
        "Also, plot the values found by GD at subsequent iterations.\n",
        "\n",
        "## 2. Newton's Method\n",
        "Newton's method is an iterative optimization algorithm used to find the minimum of a function.\n",
        "The basic update step in Newton's method is given by:\n",
        "\n",
        "\\begin{equation}\n",
        "\\Theta = \\Theta - H^{-1} \\cdot \\nabla f(\\Theta)\n",
        "\\end{equation}\n",
        "\n",
        "\n",
        "Where  $ H $ is the Hessian matrix of the function at $ \\Theta $, and $ H^{-1} $ is the inverse of the Hessian matrix, used to adjust the step size and direction more accurately than just using the gradient alone (as done in gradient descent).\n",
        "\n",
        "#### Line Search\n",
        "Sometimes, Newton's method may take too large of a step, which can lead to divergence. To prevent this, a simple **line search** is used. This reduces the step size $ \\alpha $ if the function value doesn't improve after the step.\n",
        "\n",
        "Steps:\n",
        "1. Compute the gradient and Hessian matrix at the current point.\n",
        "2. Calculate the step direction by multiplying the inverse of the Hessian with the gradient.\n",
        "3. Update the point by subtracting the step from the current point.\n",
        "4. If the function value doesn't improve, reduce the step size $ \\alpha $.\n",
        "5. Repeat until the gradient becomes sufficiently small (close to zero), indicating convergence.\n",
        "\n",
        "\n",
        "\n",
        "**Task2:** Implement Newton's method and compare it with the gradient descent. You will also need to implement a line search alogithm, e.g. (https://en.wikipedia.org/wiki/Backtracking_line_search) and make sure that the Newton's direction is indeed one along which the function is minimized.\n"
      ]
    },
    {
      "cell_type": "code",
      "execution_count": 2,
      "metadata": {
        "id": "DIsMJPFs-kLd"
      },
      "outputs": [],
      "source": [
        "def rosenbrock(x):\n",
        "    \"\"\"Returns the value and gradient of Rosenbrock's function at x: 2d vector\"\"\"\n",
        "    a = 1\n",
        "    b = 100\n",
        "    x0, x1 = x[0], x[1]\n",
        "\n",
        "    # Value of the Rosenbrock function\n",
        "    val = (a - x0)**2 + b * (x1 - x0**2)**2\n",
        "\n",
        "    # Gradients\n",
        "    dv_dx0 = -2 * (a - x0) - 4 * b * x0 * (x1 - x0**2)\n",
        "    dv_dx1 = 2 * b * (x1 - x0**2)\n",
        "\n",
        "    grad = np.array([dv_dx0, dv_dx1])\n",
        "    return val, grad\n",
        "\n",
        "def rosenbrock_hessian(x):\n",
        "    \"\"\"Returns the value, gradient and hessian of Rosenbrock's function at x: 2d vector\"\"\"\n",
        "    val, grad = rosenbrock(x)\n",
        "    a = 1\n",
        "    b = 100\n",
        "    x0, x1 = x[0], x[1]\n",
        "\n",
        "    # Hessian matrix components\n",
        "    d2v_dx0x0 = 2 - 4 * b * x1 + 12 * b * x0**2\n",
        "    d2v_dx0x1 = -4 * b * x0\n",
        "    d2v_dx1x0 = -4 * b * x0\n",
        "    d2v_dx1x1 = 2 * b\n",
        "\n",
        "    # Hessian matrix\n",
        "    hessian = np.array([[d2v_dx0x0, d2v_dx0x1],\n",
        "                        [d2v_dx1x0, d2v_dx1x1]])\n",
        "\n",
        "    return val, grad, hessian\n",
        "\n",
        "\n",
        "def GD(f, theta0, alpha, stop_tolerance=1e-10, max_steps=1000000):\n",
        "    \"\"\"Runs gradient descent algorithm on f.\"\"\"\n",
        "\n",
        "    history = []\n",
        "    theta = theta0\n",
        "    step = 0\n",
        "\n",
        "    while step < max_steps:\n",
        "        # Calculate the function value and gradient at the current theta\n",
        "        val, grad = f(theta)\n",
        "\n",
        "        # Store the current theta, value, and gradient in history\n",
        "        history.append((theta.copy(), (val, grad)))\n",
        "\n",
        "        # Update theta by moving in the opposite direction of the gradient\n",
        "        theta = theta - alpha * grad\n",
        "\n",
        "        # Check if the improvement is below the tolerance level\n",
        "        if np.linalg.norm(grad) < stop_tolerance:\n",
        "            break\n",
        "\n",
        "        step += 1\n",
        "\n",
        "    return theta, history"
      ]
    },
    {
      "cell_type": "code",
      "execution_count": 3,
      "metadata": {
        "id": "yyb5unZNaSFq",
        "colab": {
          "base_uri": "https://localhost:8080/",
          "height": 490
        },
        "outputId": "ecc194f7-9f88-4d67-9bf9-581901db0439"
      },
      "outputs": [
        {
          "output_type": "stream",
          "name": "stdout",
          "text": [
            "Found optimum at [1. 1.] in 54320 steps (true minimum is at [1,1])\n"
          ]
        },
        {
          "output_type": "display_data",
          "data": {
            "text/plain": [
              "<Figure size 640x480 with 1 Axes>"
            ],
            "image/png": "[encoded data removed]"
          },
          "metadata": {}
        }
      ],
      "source": [
        "# Find the optimum of rosenbrock function\n",
        "\n",
        "# Initial point\n",
        "X0 = [0., 2.]\n",
        "\n",
        "# Run gradient descent\n",
        "Xopt, Xhist = GD(rosenbrock, X0, alpha=1e-3, stop_tolerance=1e-10, max_steps=int(1e6))\n",
        "\n",
        "# Print the result\n",
        "print(\"Found optimum at %s in %d steps (true minimum is at [1,1])\" % (Xopt, len(Xhist)))\n",
        "\n",
        "# Extract the values of the Rosenbrock function from history\n",
        "values = [step[1][0] for step in Xhist]\n",
        "\n",
        "# Plotting the function value over iterations\n",
        "plt.plot(values)\n",
        "plt.xlabel(\"Iteration\")\n",
        "plt.ylabel(\"Function Value\")\n",
        "plt.title(\"Rosenbrock Function Value over Iterations\")\n",
        "plt.yscale(\"log\")  # Optional: Log scale to better see convergence\n",
        "plt.show()"
      ]
    },
    {
      "cell_type": "code",
      "execution_count": 4,
      "metadata": {
        "id": "JQ1Bf6sNMT_B",
        "colab": {
          "base_uri": "https://localhost:8080/"
        },
        "outputId": "ffa9d4c5-2871-4983-e72a-22e5e5948739"
      },
      "outputs": [
        {
          "output_type": "stream",
          "name": "stdout",
          "text": [
            "Found optimum at [1. 1.] (true minimum is at [1,1])\n"
          ]
        }
      ],
      "source": [
        "def Newton(f, theta0, alpha=1, stop_tolerance=1e-10, max_steps=1000000):\n",
        "    \"\"\"Performs Newton's optimization method with a simple line search.\"\"\"\n",
        "    theta = np.array(theta0, dtype=float)\n",
        "    history = []\n",
        "    step = 0\n",
        "\n",
        "    while step < max_steps:\n",
        "        # Evaluate function value, gradient, and Hessian at current theta\n",
        "        val, grad, hessian = f(theta)\n",
        "\n",
        "        # Store the current state in history\n",
        "        history.append((theta.copy(), val, grad))\n",
        "\n",
        "        # Check for convergence by the gradient's norm\n",
        "        if np.linalg.norm(grad) < stop_tolerance:\n",
        "            break\n",
        "\n",
        "        # Compute the Newton step: delta = -Hessian_inv * grad\n",
        "        try:\n",
        "            hessian_inv = np.linalg.inv(hessian)\n",
        "            delta = -hessian_inv @ grad\n",
        "        except np.linalg.LinAlgError:\n",
        "            print(\"Hessian is singular, cannot proceed with Newton's method.\")\n",
        "            break\n",
        "\n",
        "        # Line search (adjust step size alpha if needed)\n",
        "        theta_next = theta + alpha * delta\n",
        "        theta = theta_next\n",
        "\n",
        "        step += 1\n",
        "\n",
        "    # Final entry in history\n",
        "    history.append((theta, val, grad))\n",
        "    return theta, history\n",
        "\n",
        "# Test Newton's method on the Rosenbrock function\n",
        "X0 = [0., 2.]  # Initial guess\n",
        "Xopt, Xhist = Newton(rosenbrock_hessian, X0)\n",
        "\n",
        "print(\"Found optimum at %s (true minimum is at [1,1])\" % Xopt)\n"
      ]
    },
    {
      "cell_type": "markdown",
      "metadata": {
        "id": "wNXtvq8u-JSo"
      },
      "source": [
        "# Part two: MLP for MNIST Classification\n",
        "In this part, we are going to use `PyTorch`. If you want to become more familiar with it, check this resource: https://www.learnpytorch.io/\n",
        "\n",
        "#### In this homework, you need to\n",
        "- implement SGD optimizer (`./optimizer.py`)\n",
        "- implement forward and backward for FCLayer (`layers.py`)\n",
        "- implement forward and backward for SigmoidLayer (`layers.py`)\n",
        "- implement forward and backward for ReLULayer (`layers.py`)\n",
        "- implement forward and backward for DropoutLayer (`layers.py`)\n",
        "- implement train and test process (`solver.py`)"
      ]
    },
    {
      "cell_type": "code",
      "execution_count": 5,
      "metadata": {
        "id": "zWtm2k5Ir-XQ"
      },
      "outputs": [],
      "source": [
        "from layers import FCLayer, SigmoidLayer, ReLULayer\n",
        "from solver import train, test\n",
        "from optimizer import SGD"
      ]
    },
    {
      "cell_type": "code",
      "execution_count": 6,
      "metadata": {
        "id": "NRwL2rM0O92Z",
        "colab": {
          "base_uri": "https://localhost:8080/",
          "height": 35
        },
        "outputId": "aa4f0c0c-c4ea-4a3c-e100-5e8fad49a898"
      },
      "outputs": [
        {
          "output_type": "execute_result",
          "data": {
            "text/plain": [
              "'cuda'"
            ],
            "application/vnd.google.colaboratory.intrinsic+json": {
              "type": "string"
            }
          },
          "metadata": {},
          "execution_count": 6
        }
      ],
      "source": [
        "seed = 42\n",
        "torch.manual_seed(seed)\n",
        "np.random.seed(seed)\n",
        "device = \"cuda\" if torch.cuda.is_available() else \"cpu\"\n",
        "device"
      ]
    },
    {
      "cell_type": "code",
      "execution_count": 7,
      "metadata": {
        "id": "bCXcnjSYaR-R"
      },
      "outputs": [],
      "source": [
        "# Load MNIST dataset\n",
        "\n",
        "# Converts PIL image to tensor and scales to [0, 1] and flatten it\n",
        "transform = transforms.Compose([\n",
        "    transforms.ToTensor(),\n",
        "    transforms.Lambda(lambda x: x.view(-1)),\n",
        "])\n",
        "\n",
        "# Load MNIST dataset with the defined transform\n",
        "train_dataset = datasets.MNIST(root='./data', train=True, download=True, transform=transform)\n",
        "test_dataset = datasets.MNIST(root='./data', train=False, download=True, transform=transform)\n",
        "\n",
        "# One-hot encoding for labels\n",
        "def decode_label(label, num_classes=10):\n",
        "    return torch.nn.functional.one_hot(torch.tensor(label), num_classes=num_classes).float()\n",
        "\n",
        "# Preprocess labels and combine with transformed images\n",
        "y_train = [decode_label(label) for _, label in train_dataset]\n",
        "y_test = [decode_label(label) for _, label in test_dataset]\n",
        "\n",
        "# Convert the data into tensor datasets for training and testing\n",
        "train_dataset = TensorDataset(torch.stack([img for img, _ in train_dataset]), torch.stack(y_train))\n",
        "test_dataset = TensorDataset(torch.stack([img for img, _ in test_dataset]), torch.stack(y_test))\n",
        "\n",
        "# Create data loaders\n",
        "train_dataloader = DataLoader(train_dataset, batch_size=32, shuffle=True)\n",
        "test_dataloader = DataLoader(test_dataset, batch_size=32, shuffle=False)"
      ]
    },
    {
      "cell_type": "code",
      "execution_count": 8,
      "metadata": {
        "id": "NkRty2cM-kIt",
        "colab": {
          "base_uri": "https://localhost:8080/"
        },
        "outputId": "97eebade-e70f-4918-f96a-70105bed539b"
      },
      "outputs": [
        {
          "output_type": "stream",
          "name": "stdout",
          "text": [
            "\n",
            "Epoch [0] Average training loss: 0.0771, Average training accuracy: 0.4956\n",
            "\n",
            "Epoch [1] Average training loss: 0.0556, Average training accuracy: 0.7378\n",
            "\n",
            "Epoch [2] Average training loss: 0.0506, Average training accuracy: 0.7835\n",
            "\n",
            "Epoch [3] Average training loss: 0.0482, Average training accuracy: 0.8046\n",
            "\n",
            "Epoch [4] Average training loss: 0.0466, Average training accuracy: 0.8173\n",
            "\n",
            "Epoch [5] Average training loss: 0.0456, Average training accuracy: 0.8254\n",
            "\n",
            "Epoch [6] Average training loss: 0.0448, Average training accuracy: 0.8307\n",
            "\n",
            "Epoch [7] Average training loss: 0.0442, Average training accuracy: 0.8344\n",
            "\n",
            "Epoch [8] Average training loss: 0.0437, Average training accuracy: 0.8384\n",
            "\n",
            "Epoch [9] Average training loss: 0.0432, Average training accuracy: 0.8408\n",
            "\n",
            "Epoch [10] Average training loss: 0.0429, Average training accuracy: 0.8430\n",
            "\n",
            "Epoch [11] Average training loss: 0.0426, Average training accuracy: 0.8455\n",
            "\n",
            "Epoch [12] Average training loss: 0.0423, Average training accuracy: 0.8465\n",
            "\n",
            "Epoch [13] Average training loss: 0.0420, Average training accuracy: 0.8474\n",
            "\n",
            "Epoch [14] Average training loss: 0.0418, Average training accuracy: 0.8489\n",
            "\n",
            "Epoch [15] Average training loss: 0.0415, Average training accuracy: 0.8504\n",
            "\n",
            "Epoch [16] Average training loss: 0.0413, Average training accuracy: 0.8517\n",
            "\n",
            "Epoch [17] Average training loss: 0.0411, Average training accuracy: 0.8514\n",
            "\n",
            "Epoch [18] Average training loss: 0.0409, Average training accuracy: 0.8529\n",
            "\n",
            "Epoch [19] Average training loss: 0.0407, Average training accuracy: 0.8533\n"
          ]
        }
      ],
      "source": [
        "num_epoch = 20\n",
        "\n",
        "criterion = nn.MSELoss()\n",
        "\n",
        "# Build MLP with FCLayer and SigmoidLayer you've implemented in layers.py\n",
        "sigmoidMLP = nn.Sequential(\n",
        "    FCLayer(784, 128),\n",
        "    SigmoidLayer(),\n",
        "    FCLayer(128, 10)\n",
        ")\n",
        "\n",
        "# Initialize optimizer you've implemented in optimizer.py\n",
        "sgd = SGD(params=sigmoidMLP.parameters(), learning_rate=0.01)\n",
        "\n",
        "# Train the model using train function you've implemented in solver.py\n",
        "sigmoidMLP = train(sigmoidMLP, criterion, sgd, train_dataloader, num_epoch, device=device)"
      ]
    },
    {
      "cell_type": "code",
      "execution_count": 9,
      "metadata": {
        "id": "F0otZUFrr7WW",
        "colab": {
          "base_uri": "https://localhost:8080/"
        },
        "outputId": "f56bfe70-4b32-4f94-9a10-805e6fdc68da"
      },
      "outputs": [
        {
          "output_type": "stream",
          "name": "stdout",
          "text": [
            "The test accuracy is 0.8627.\n",
            "\n"
          ]
        }
      ],
      "source": [
        "# Test your model using test function you've implemented in solver.py\n",
        "test(sigmoidMLP, test_dataloader, device)"
      ]
    },
    {
      "cell_type": "code",
      "execution_count": 10,
      "metadata": {
        "id": "n-2V-B_er7T2",
        "colab": {
          "base_uri": "https://localhost:8080/"
        },
        "outputId": "f661392c-be83-46ae-8ecb-6a7175b5afbc"
      },
      "outputs": [
        {
          "output_type": "stream",
          "name": "stdout",
          "text": [
            "\n",
            "Epoch [0] Average training loss: 0.0712, Average training accuracy: 0.6373\n",
            "\n",
            "Epoch [1] Average training loss: 0.0467, Average training accuracy: 0.8231\n",
            "\n",
            "Epoch [2] Average training loss: 0.0399, Average training accuracy: 0.8589\n",
            "\n",
            "Epoch [3] Average training loss: 0.0357, Average training accuracy: 0.8765\n",
            "\n",
            "Epoch [4] Average training loss: 0.0327, Average training accuracy: 0.8875\n",
            "\n",
            "Epoch [5] Average training loss: 0.0305, Average training accuracy: 0.8953\n",
            "\n",
            "Epoch [6] Average training loss: 0.0288, Average training accuracy: 0.9011\n",
            "\n",
            "Epoch [7] Average training loss: 0.0274, Average training accuracy: 0.9060\n",
            "\n",
            "Epoch [8] Average training loss: 0.0262, Average training accuracy: 0.9103\n",
            "\n",
            "Epoch [9] Average training loss: 0.0253, Average training accuracy: 0.9131\n",
            "\n",
            "Epoch [10] Average training loss: 0.0244, Average training accuracy: 0.9162\n",
            "\n",
            "Epoch [11] Average training loss: 0.0237, Average training accuracy: 0.9185\n",
            "\n",
            "Epoch [12] Average training loss: 0.0231, Average training accuracy: 0.9205\n",
            "\n",
            "Epoch [13] Average training loss: 0.0225, Average training accuracy: 0.9227\n",
            "\n",
            "Epoch [14] Average training loss: 0.0220, Average training accuracy: 0.9248\n",
            "\n",
            "Epoch [15] Average training loss: 0.0215, Average training accuracy: 0.9264\n",
            "\n",
            "Epoch [16] Average training loss: 0.0211, Average training accuracy: 0.9279\n",
            "\n",
            "Epoch [17] Average training loss: 0.0207, Average training accuracy: 0.9289\n",
            "\n",
            "Epoch [18] Average training loss: 0.0204, Average training accuracy: 0.9297\n",
            "\n",
            "Epoch [19] Average training loss: 0.0200, Average training accuracy: 0.9309\n"
          ]
        }
      ],
      "source": [
        "# Build MLP with FCLayer and ReLULayer\n",
        "reluMLP = nn.Sequential(\n",
        "    FCLayer(784, 128),\n",
        "    ReLULayer(),\n",
        "    FCLayer(128, 10)\n",
        ")\n",
        "\n",
        "# Initialize optimizer\n",
        "sgd = SGD(reluMLP.parameters(), learning_rate=0.01)\n",
        "\n",
        "# Train the model\n",
        "reluMLP = train(reluMLP, criterion, sgd, train_dataloader, num_epoch, device=device)"
      ]
    },
    {
      "cell_type": "code",
      "execution_count": 11,
      "metadata": {
        "id": "sLjxTbq8r7RZ",
        "colab": {
          "base_uri": "https://localhost:8080/"
        },
        "outputId": "09ae41d3-ed8e-4b29-966f-f8c8f7439005"
      },
      "outputs": [
        {
          "output_type": "stream",
          "name": "stdout",
          "text": [
            "The test accuracy is 0.9313.\n",
            "\n"
          ]
        }
      ],
      "source": [
        "# Test the model\n",
        "test(reluMLP, test_dataloader, device)"
      ]
    },
    {
      "cell_type": "markdown",
      "metadata": {
        "id": "krsqZLJ-qQKH"
      },
      "source": [
        "### Overfit the model\n",
        "Try to overfit the reluMLP model. You can make the model as complex as you like, use subset of the data for training or any other approach you want.\n",
        "Then add **DropoutLayer** to your model in order to reduce overfitting problem."
      ]
    },
    {
      "cell_type": "code",
      "execution_count": 12,
      "metadata": {
        "id": "XbVFtro9qP1i",
        "colab": {
          "base_uri": "https://localhost:8080/"
        },
        "outputId": "deea6c71-ae5e-430f-8d5b-4b1200e0b420"
      },
      "outputs": [
        {
          "output_type": "stream",
          "name": "stdout",
          "text": [
            "\n",
            "Epoch [0] Average training loss: 2.3196, Average training accuracy: 0.1160\n",
            "\n",
            "Epoch [1] Average training loss: 2.2260, Average training accuracy: 0.1586\n",
            "\n",
            "Epoch [2] Average training loss: 2.1477, Average training accuracy: 0.2223\n",
            "\n",
            "Epoch [3] Average training loss: 2.0586, Average training accuracy: 0.3168\n",
            "\n",
            "Epoch [4] Average training loss: 1.9621, Average training accuracy: 0.4418\n",
            "\n",
            "Epoch [5] Average training loss: 1.8518, Average training accuracy: 0.5211\n",
            "\n",
            "Epoch [6] Average training loss: 1.7365, Average training accuracy: 0.5832\n",
            "\n",
            "Epoch [7] Average training loss: 1.6101, Average training accuracy: 0.6426\n",
            "\n",
            "Epoch [8] Average training loss: 1.4875, Average training accuracy: 0.7215\n",
            "\n",
            "Epoch [9] Average training loss: 1.3491, Average training accuracy: 0.7543\n",
            "\n",
            "Epoch [10] Average training loss: 1.2241, Average training accuracy: 0.7770\n",
            "\n",
            "Epoch [11] Average training loss: 1.1085, Average training accuracy: 0.7891\n",
            "\n",
            "Epoch [12] Average training loss: 1.0017, Average training accuracy: 0.8098\n",
            "\n",
            "Epoch [13] Average training loss: 0.9173, Average training accuracy: 0.8285\n",
            "\n",
            "Epoch [14] Average training loss: 0.8350, Average training accuracy: 0.8430\n",
            "\n",
            "Epoch [15] Average training loss: 0.7603, Average training accuracy: 0.8570\n",
            "\n",
            "Epoch [16] Average training loss: 0.7070, Average training accuracy: 0.8582\n",
            "\n",
            "Epoch [17] Average training loss: 0.6533, Average training accuracy: 0.8703\n",
            "\n",
            "Epoch [18] Average training loss: 0.6094, Average training accuracy: 0.8656\n",
            "\n",
            "Epoch [19] Average training loss: 0.5663, Average training accuracy: 0.8695\n",
            "The test accuracy is 0.7630.\n",
            "\n"
          ]
        }
      ],
      "source": [
        "import torch.nn as nn\n",
        "\n",
        "# Define a more complex MLP model to encourage overfitting\n",
        "complex_reluMLP = nn.Sequential(\n",
        "    FCLayer(784, 256),\n",
        "    ReLULayer(),\n",
        "    FCLayer(256, 128),\n",
        "    ReLULayer(),\n",
        "    FCLayer(128, 64),\n",
        "    ReLULayer(),\n",
        "    FCLayer(64, 10)\n",
        ")\n",
        "\n",
        "# Initialize optimizer\n",
        "sgd = SGD(complex_reluMLP.parameters(), learning_rate=0.01)\n",
        "\n",
        "# Use a smaller subset of the training data to encourage overfitting\n",
        "subset_size = 500  # Use only 500 samples for training to induce overfitting\n",
        "subset_train_dataloader = DataLoader(\n",
        "    torch.utils.data.Subset(train_dataset, range(subset_size)),\n",
        "    batch_size=32,\n",
        "    shuffle=True\n",
        ")\n",
        "\n",
        "# Train the complex model on the subset\n",
        "num_epoch = 20  # Increase epochs to further encourage memorization\n",
        "criterion = nn.CrossEntropyLoss()  # Define a loss function\n",
        "device = torch.device(\"cuda\" if torch.cuda.is_available() else \"cpu\")\n",
        "\n",
        "complex_reluMLP = train(complex_reluMLP, criterion, sgd, subset_train_dataloader, num_epoch, device=device)\n",
        "\n",
        "# Test the model to observe overfitting\n",
        "test(complex_reluMLP, test_dataloader, device)"
      ]
    },
    {
      "cell_type": "code",
      "execution_count": 13,
      "metadata": {
        "id": "BeCfvh6Jr7Om",
        "colab": {
          "base_uri": "https://localhost:8080/"
        },
        "outputId": "a2cc3dbb-17ac-4d8b-f2e9-b2b714c3f7f3"
      },
      "outputs": [
        {
          "output_type": "stream",
          "name": "stdout",
          "text": [
            "\n",
            "Epoch [0] Average training loss: 1.4620, Average training accuracy: 0.4889\n",
            "\n",
            "Epoch [1] Average training loss: 0.7382, Average training accuracy: 0.7711\n",
            "\n",
            "Epoch [2] Average training loss: 0.5631, Average training accuracy: 0.8368\n",
            "\n",
            "Epoch [3] Average training loss: 0.4718, Average training accuracy: 0.8667\n",
            "\n",
            "Epoch [4] Average training loss: 0.4164, Average training accuracy: 0.8863\n",
            "\n",
            "Epoch [5] Average training loss: 0.3711, Average training accuracy: 0.9000\n",
            "\n",
            "Epoch [6] Average training loss: 0.3419, Average training accuracy: 0.9093\n",
            "\n",
            "Epoch [7] Average training loss: 0.3144, Average training accuracy: 0.9165\n",
            "\n",
            "Epoch [8] Average training loss: 0.2947, Average training accuracy: 0.9213\n",
            "\n",
            "Epoch [9] Average training loss: 0.2795, Average training accuracy: 0.9267\n",
            "\n",
            "Epoch [10] Average training loss: 0.2653, Average training accuracy: 0.9298\n",
            "\n",
            "Epoch [11] Average training loss: 0.2502, Average training accuracy: 0.9351\n",
            "\n",
            "Epoch [12] Average training loss: 0.2415, Average training accuracy: 0.9365\n",
            "\n",
            "Epoch [13] Average training loss: 0.2270, Average training accuracy: 0.9397\n",
            "\n",
            "Epoch [14] Average training loss: 0.2183, Average training accuracy: 0.9425\n",
            "\n",
            "Epoch [15] Average training loss: 0.2137, Average training accuracy: 0.9437\n",
            "\n",
            "Epoch [16] Average training loss: 0.2105, Average training accuracy: 0.9458\n",
            "\n",
            "Epoch [17] Average training loss: 0.1986, Average training accuracy: 0.9479\n",
            "\n",
            "Epoch [18] Average training loss: 0.1907, Average training accuracy: 0.9504\n",
            "\n",
            "Epoch [19] Average training loss: 0.1880, Average training accuracy: 0.9512\n",
            "The test accuracy is 0.9694.\n",
            "\n"
          ]
        }
      ],
      "source": [
        "from layers import DropoutLayer\n",
        "\n",
        "# Define the MLP model with Dropout layers to reduce overfitting\n",
        "dropout_reluMLP = nn.Sequential(\n",
        "    FCLayer(784, 256),\n",
        "    ReLULayer(),\n",
        "    DropoutLayer(0.5),  # 50% dropout rate\n",
        "    FCLayer(256, 128),\n",
        "    ReLULayer(),\n",
        "    DropoutLayer(0.5),  # 50% dropout rate\n",
        "    FCLayer(128, 64),\n",
        "    ReLULayer(),\n",
        "    DropoutLayer(0.5),  # 50% dropout rate\n",
        "    FCLayer(64, 10)\n",
        ")\n",
        "\n",
        "# Initialize the optimizer\n",
        "sgd = SGD(dropout_reluMLP.parameters(), learning_rate=0.01)\n",
        "\n",
        "# Train the model with Dropout\n",
        "num_epoch = 20\n",
        "device = torch.device(\"cuda\" if torch.cuda.is_available() else \"cpu\")\n",
        "criterion = nn.CrossEntropyLoss()\n",
        "\n",
        "dropout_reluMLP = train(dropout_reluMLP, criterion, sgd, train_dataloader, num_epoch, device=device)\n",
        "\n",
        "# Test the model with Dropout\n",
        "test(dropout_reluMLP, test_dataloader, device)\n"
      ]
    }
  ],
  "metadata": {
    "colab": {
      "provenance": [],
      "gpuType": "T4"
    },
    "kernelspec": {
      "display_name": "Python 3",
      "name": "python3"
    },
    "language_info": {
      "codemirror_mode": {
        "name": "ipython",
        "version": 3
      },
      "file_extension": ".py",
      "mimetype": "text/x-python",
      "name": "python",
      "nbconvert_exporter": "python",
      "pygments_lexer": "ipython3",
      "version": "3.9.19"
    },
    "accelerator": "GPU"
  },
  "nbformat": 4,
  "nbformat_minor": 0
}