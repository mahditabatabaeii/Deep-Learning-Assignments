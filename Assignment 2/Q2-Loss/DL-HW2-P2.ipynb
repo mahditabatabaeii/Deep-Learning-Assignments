{
  "cells": [
    {
      "cell_type": "markdown",
      "metadata": {},
      "source": [
        "# **Deep Learning Course**\n",
        "\n",
        "## **Loss Functions and Multilayer Perceptrons (MLP)**\n",
        "\n",
        "---\n",
        "\n",
        "### **Student Information:**\n",
        "\n",
        "- **Name:** *Mahdi Tabatabaei*\n",
        "- **Student Number:** *400101515*\n",
        "\n",
        "---\n",
        "\n",
        "### **Assignment Overview**\n",
        "\n",
        "In this notebook, we will explore various loss functions used in neural networks, with a specific focus on their role in training **Multilayer Perceptrons (MLPs)**. By the end of this notebook, you will have a deeper understanding of:\n",
        "- Types of loss functions\n",
        "- How loss functions affect the training process\n",
        "- The relationship between loss functions and model optimization in MLPs\n",
        "\n",
        "---\n",
        "\n",
        "### **Table of Contents**\n",
        "\n",
        "1. Introduction to Loss Functions\n",
        "2. Types of Loss Functions\n",
        "3. Multilayer Perceptrons (MLP)\n",
        "4. Implementing Loss Functions in MLP\n",
        "5. Conclusion\n",
        "\n",
        "---\n",
        "\n"
      ]
    },
    {
      "cell_type": "markdown",
      "metadata": {},
      "source": [
        "# 1.Introduction to Loss Functions \n",
        "\n",
        "In deep learning, **loss functions** play a crucial role in training models by quantifying the difference between the predicted outputs and the actual targets. Selecting the appropriate loss function is essential for the success of your model. In this assay, we will explore various loss functions available in PyTorch, understand their theoretical backgrounds, and provide you with a scaffolded class to experiment with these loss functions.\n",
        "\n",
        "Before begining, let's train a simle MLP model using the **L1Loss** function. We'll return to this model later to experiment with different loss functions. We'll start by importing the necessary libraries and defining the model architecture.\n",
        "\n",
        "First things first, let's talk about **L1Loss**.\n",
        "\n",
        "### 1. L1Loss (`torch.nn.L1Loss`)\n",
        "- **Description:** Also known as Mean Absolute Error (MAE), L1Loss computes the average absolute difference between the predicted values and the target values.\n",
        "- **Use Case:** Suitable for regression tasks where robustness to outliers is desired.\n",
        "\n",
        "Here is the mathematical formulation of L1Loss:\n",
        "\\begin{equation}\n",
        "\\text{L1Loss} = \\frac{1}{n} \\sum_{i=1}^{n} |y_{\\text{pred}_i} - y_{\\text{true}_i}|\n",
        "\\end{equation}\n",
        "\n",
        "Let's implement a simple MLP model using the L1Loss function."
      ]
    },
    {
      "cell_type": "code",
      "execution_count": 1,
      "metadata": {},
      "outputs": [],
      "source": [
        "import torch\n",
        "import torch.nn as nn\n",
        "import torch.optim as optim\n",
        "import pandas as pd\n",
        "from torch.utils.data import TensorDataset, DataLoader\n",
        "from sklearn.model_selection import train_test_split\n",
        "from torch.optim import Adam\n",
        "# Don't be courious about Adam, it's just a fancy name for a fancy optimization algorithm"
      ]
    },
    {
      "cell_type": "markdown",
      "metadata": {},
      "source": [
        "Here, we'll define a class called `SimpleMLP` that inherits from `nn.Module`. This class can have multiple layers, and we'll use the `nn.Sequential` module to define the layers of the model. The model will have the following architecture:"
      ]
    },
    {
      "cell_type": "code",
      "execution_count": 2,
      "metadata": {},
      "outputs": [],
      "source": [
        "from tqdm import tqdm\n",
        "\n",
        "class SimpleMLP(nn.Module):\n",
        "    def __init__(self, input_dim, hidden_dim, output_dim, num_hidden_layers=1, last_layer_activation_fn=nn.ReLU):\n",
        "        super(SimpleMLP, self).__init__()\n",
        "        \n",
        "        # Initialize a list to store the layers\n",
        "        layers = []\n",
        "        \n",
        "        # Add the first layer (input layer to first hidden layer)\n",
        "        layers.append(nn.Linear(input_dim, hidden_dim))\n",
        "        layers.append(nn.ReLU())  # Apply ReLU activation after each hidden layer\n",
        "        \n",
        "        # Add hidden layers\n",
        "        for _ in range(num_hidden_layers - 1):\n",
        "            layers.append(nn.Linear(hidden_dim, hidden_dim))\n",
        "            layers.append(nn.ReLU())\n",
        "        \n",
        "        # Add output layer\n",
        "        layers.append(nn.Linear(hidden_dim, output_dim))\n",
        "        \n",
        "        # Add activation function for the output layer\n",
        "        if last_layer_activation_fn is not None:\n",
        "            layers.append(last_layer_activation_fn())\n",
        "        \n",
        "        # Use nn.Sequential to define the model architecture\n",
        "        self.model = nn.Sequential(*layers)\n",
        "\n",
        "    def forward(self, x):\n",
        "        # Pass the input through the model\n",
        "        return self.model(x)\n"
      ]
    },
    {
      "cell_type": "markdown",
      "metadata": {},
      "source": [
        "Now, let's define a class called `SimpleMLP_Loss` that has the following architecture:"
      ]
    },
    {
      "cell_type": "code",
      "execution_count": 3,
      "metadata": {},
      "outputs": [],
      "source": [
        "from tqdm import tqdm\n",
        "\n",
        "class SimpleMLPTrainer:\n",
        "    def __init__(self, model, criterion, optimizer):\n",
        "        self.model = model\n",
        "        self.criterion = criterion\n",
        "        self.optimizer = optimizer\n",
        "\n",
        "    def train(self, train_loader, num_epochs):\n",
        "        # List to store training loss for each epoch\n",
        "        epoch_losses = []\n",
        "\n",
        "        # Training loop\n",
        "        for epoch in range(num_epochs):\n",
        "            self.model.train()  # Set model to training mode\n",
        "            running_loss = 0.0\n",
        "\n",
        "            # Use tqdm for a progress bar\n",
        "            for inputs, targets in tqdm(train_loader, desc=f\"Epoch {epoch + 1}/{num_epochs}\"):\n",
        "                # Zero the parameter gradients\n",
        "                self.optimizer.zero_grad()\n",
        "\n",
        "                # Forward pass\n",
        "                outputs = self.model(inputs)\n",
        "                loss = self.criterion(outputs, targets)\n",
        "\n",
        "                # Backward pass and optimize\n",
        "                loss.backward()\n",
        "                self.optimizer.step()\n",
        "\n",
        "                # Accumulate loss\n",
        "                running_loss += loss.item()\n",
        "\n",
        "            # Calculate and store average loss for this epoch\n",
        "            avg_loss = running_loss / len(train_loader)\n",
        "            epoch_losses.append(avg_loss)\n",
        "\n",
        "            # Print loss for the epoch\n",
        "            print(f\"Epoch [{epoch + 1}/{num_epochs}], Loss: {avg_loss:.4f}\")\n",
        "\n",
        "        return epoch_losses\n",
        "\n",
        "    def evaluate(self, val_loader):\n",
        "        self.model.eval()  # Set model to evaluation mode\n",
        "        val_loss = 0.0\n",
        "        correct_predictions = 0\n",
        "        total_predictions = 0\n",
        "\n",
        "        with torch.no_grad():  # Disable gradient computation\n",
        "            for inputs, targets in val_loader:\n",
        "                # Forward pass\n",
        "                outputs = self.model(inputs)\n",
        "                loss = self.criterion(outputs, targets)\n",
        "\n",
        "                # Accumulate validation loss\n",
        "                val_loss += loss.item()\n",
        "\n",
        "                if outputs.shape[1] == 2:  # Multi-class prediction\n",
        "                    predicted = torch.argmax(outputs, dim=1)\n",
        "                # Convert targets to 1D if they are one-hot encoded or multi-dimensional\n",
        "                    targets = torch.argmax(targets, dim=1) if targets.dim() > 1 else targets\n",
        "                else:  # Binary classification\n",
        "                    predicted = (outputs >= 0.5).float().squeeze()\n",
        "                    targets = targets.squeeze()\n",
        "                    \n",
        "                correct_predictions += (predicted == targets).sum().item()\n",
        "                total_predictions += targets.size(0)\n",
        "\n",
        "        # Average validation loss\n",
        "        avg_val_loss = val_loss / len(val_loader)\n",
        "        # Calculate accuracy\n",
        "        accuracy = correct_predictions / total_predictions\n",
        "\n",
        "        print(f\"Validation Loss: {avg_val_loss:.4f}, Accuracy: {accuracy:.4f}\")\n",
        "        return avg_val_loss, accuracy\n"
      ]
    },
    {
      "cell_type": "markdown",
      "metadata": {},
      "source": [
        "Next, lets test our model using the L1Loss function. You'll use <span style=\"color:red\">*Titanic Dataset*</span> to train the model.\n"
      ]
    },
    {
      "cell_type": "code",
      "execution_count": 4,
      "metadata": {},
      "outputs": [],
      "source": [
        "# Load dataset\n",
        "train_url = \"https://raw.githubusercontent.com/datasciencedojo/datasets/master/titanic.csv\"\n",
        "data = pd.read_csv(train_url)\n",
        "\n",
        "# Preprocessing (simple example)\n",
        "data = data[['Pclass', 'Sex', 'Age', 'Fare', 'Survived']].dropna()\n",
        "data['Sex'] = data['Sex'].map({'male': 0, 'female': 1})"
      ]
    },
    {
      "cell_type": "code",
      "execution_count": 5,
      "metadata": {},
      "outputs": [],
      "source": [
        "# Convert data to tensors\n",
        "X = data[['Pclass', 'Sex', 'Age', 'Fare']].values\n",
        "y = data['Survived'].values\n",
        "\n",
        "X_tensor = torch.tensor(X, dtype=torch.float32)\n",
        "y_tensor = torch.tensor(y, dtype=torch.float32)"
      ]
    },
    {
      "cell_type": "code",
      "execution_count": 6,
      "metadata": {},
      "outputs": [],
      "source": [
        "# Split data into train and test sets\n",
        "X_train, X_test, y_train, y_test = train_test_split(X_tensor, y_tensor, test_size=0.2, random_state=42)\n",
        "\n",
        "# Create TensorDatasets and DataLoaders\n",
        "train_dataset = TensorDataset(X_train, y_train)\n",
        "test_dataset = TensorDataset(X_test, y_test)\n",
        "train_loader = DataLoader(train_dataset, batch_size=32, shuffle=True)\n",
        "test_loader = DataLoader(test_dataset, batch_size=32, shuffle=False)"
      ]
    },
    {
      "cell_type": "code",
      "execution_count": 7,
      "metadata": {},
      "outputs": [
        {
          "data": {
            "text/plain": [
              "device(type='cuda')"
            ]
          },
          "execution_count": 7,
          "metadata": {},
          "output_type": "execute_result"
        }
      ],
      "source": [
        "# Check if GPU is available\n",
        "device = torch.device(\"cuda\" if torch.cuda.is_available() else \"cpu\")\n",
        "device"
      ]
    },
    {
      "cell_type": "code",
      "execution_count": 8,
      "metadata": {},
      "outputs": [
        {
          "name": "stderr",
          "output_type": "stream",
          "text": [
            "c:\\Users\\ASUS\\anaconda3\\envs\\torchcuda121\\lib\\site-packages\\tqdm\\auto.py:21: TqdmWarning: IProgress not found. Please update jupyter and ipywidgets. See https://ipywidgets.readthedocs.io/en/stable/user_install.html\n",
            "  from .autonotebook import tqdm as notebook_tqdm\n"
          ]
        }
      ],
      "source": [
        "# Define model parameters\n",
        "input_dim = X.shape[1]  # Number of features\n",
        "hidden_dim = 16  # Number of units in hidden layer\n",
        "output_dim = 1  # Output layer size for binary classification (Survived or not)\n",
        "num_hidden_layers = 2\n",
        "\n",
        "# Instantiate the model\n",
        "model_L1 = SimpleMLP(input_dim, hidden_dim, output_dim, num_hidden_layers=num_hidden_layers, last_layer_activation_fn=nn.Sigmoid)\n",
        "# model_L1 = model_L1.to(device)  # Move model to the specified device\n",
        "\n",
        "# Define the criterion and optimizer\n",
        "criterion = nn.L1Loss()\n",
        "optimizer = Adam(model_L1.parameters(), lr=0.001)\n"
      ]
    },
    {
      "cell_type": "markdown",
      "metadata": {},
      "source": [
        "<div style=\"text-align: center;\"> <span style=\"color:red; font-size: 26px; font-weight: bold;\">Let's train!</span> </div>"
      ]
    },
    {
      "cell_type": "code",
      "execution_count": 9,
      "metadata": {},
      "outputs": [
        {
          "name": "stderr",
          "output_type": "stream",
          "text": [
            "Epoch 1/20:   0%|          | 0/18 [00:00<?, ?it/s]c:\\Users\\ASUS\\anaconda3\\envs\\torchcuda121\\lib\\site-packages\\torch\\nn\\modules\\loss.py:101: UserWarning: Using a target size (torch.Size([32])) that is different to the input size (torch.Size([32, 1])). This will likely lead to incorrect results due to broadcasting. Please ensure they have the same size.\n",
            "  return F.l1_loss(input, target, reduction=self.reduction)\n",
            "c:\\Users\\ASUS\\anaconda3\\envs\\torchcuda121\\lib\\site-packages\\torch\\nn\\modules\\loss.py:101: UserWarning: Using a target size (torch.Size([27])) that is different to the input size (torch.Size([27, 1])). This will likely lead to incorrect results due to broadcasting. Please ensure they have the same size.\n",
            "  return F.l1_loss(input, target, reduction=self.reduction)\n",
            "Epoch 1/20: 100%|██████████| 18/18 [00:00<00:00, 333.79it/s]\n"
          ]
        },
        {
          "name": "stdout",
          "output_type": "stream",
          "text": [
            "Epoch [1/20], Loss: 0.4563\n"
          ]
        },
        {
          "name": "stderr",
          "output_type": "stream",
          "text": [
            "Epoch 2/20: 100%|██████████| 18/18 [00:00<00:00, 801.23it/s]\n"
          ]
        },
        {
          "name": "stdout",
          "output_type": "stream",
          "text": [
            "Epoch [2/20], Loss: 0.4312\n"
          ]
        },
        {
          "name": "stderr",
          "output_type": "stream",
          "text": [
            "Epoch 3/20: 100%|██████████| 18/18 [00:00<00:00, 462.25it/s]\n"
          ]
        },
        {
          "name": "stdout",
          "output_type": "stream",
          "text": [
            "Epoch [3/20], Loss: 0.4213\n"
          ]
        },
        {
          "name": "stderr",
          "output_type": "stream",
          "text": [
            "Epoch 4/20: 100%|██████████| 18/18 [00:00<00:00, 289.02it/s]\n"
          ]
        },
        {
          "name": "stdout",
          "output_type": "stream",
          "text": [
            "Epoch [4/20], Loss: 0.4139\n"
          ]
        },
        {
          "name": "stderr",
          "output_type": "stream",
          "text": [
            "Epoch 5/20: 100%|██████████| 18/18 [00:00<00:00, 262.34it/s]\n"
          ]
        },
        {
          "name": "stdout",
          "output_type": "stream",
          "text": [
            "Epoch [5/20], Loss: 0.4144\n"
          ]
        },
        {
          "name": "stderr",
          "output_type": "stream",
          "text": [
            "Epoch 6/20: 100%|██████████| 18/18 [00:00<00:00, 517.06it/s]\n"
          ]
        },
        {
          "name": "stdout",
          "output_type": "stream",
          "text": [
            "Epoch [6/20], Loss: 0.4125\n"
          ]
        },
        {
          "name": "stderr",
          "output_type": "stream",
          "text": [
            "Epoch 7/20: 100%|██████████| 18/18 [00:00<00:00, 521.30it/s]\n"
          ]
        },
        {
          "name": "stdout",
          "output_type": "stream",
          "text": [
            "Epoch [7/20], Loss: 0.4114\n"
          ]
        },
        {
          "name": "stderr",
          "output_type": "stream",
          "text": [
            "Epoch 8/20: 100%|██████████| 18/18 [00:00<00:00, 400.10it/s]\n"
          ]
        },
        {
          "name": "stdout",
          "output_type": "stream",
          "text": [
            "Epoch [8/20], Loss: 0.4110\n"
          ]
        },
        {
          "name": "stderr",
          "output_type": "stream",
          "text": [
            "Epoch 9/20: 100%|██████████| 18/18 [00:00<00:00, 433.85it/s]\n"
          ]
        },
        {
          "name": "stdout",
          "output_type": "stream",
          "text": [
            "Epoch [9/20], Loss: 0.4114\n"
          ]
        },
        {
          "name": "stderr",
          "output_type": "stream",
          "text": [
            "Epoch 10/20: 100%|██████████| 18/18 [00:00<00:00, 375.26it/s]\n"
          ]
        },
        {
          "name": "stdout",
          "output_type": "stream",
          "text": [
            "Epoch [10/20], Loss: 0.4102\n"
          ]
        },
        {
          "name": "stderr",
          "output_type": "stream",
          "text": [
            "Epoch 11/20: 100%|██████████| 18/18 [00:00<00:00, 386.63it/s]\n"
          ]
        },
        {
          "name": "stdout",
          "output_type": "stream",
          "text": [
            "Epoch [11/20], Loss: 0.4091\n"
          ]
        },
        {
          "name": "stderr",
          "output_type": "stream",
          "text": [
            "Epoch 12/20: 100%|██████████| 18/18 [00:00<00:00, 435.42it/s]\n"
          ]
        },
        {
          "name": "stdout",
          "output_type": "stream",
          "text": [
            "Epoch [12/20], Loss: 0.4109\n"
          ]
        },
        {
          "name": "stderr",
          "output_type": "stream",
          "text": [
            "Epoch 13/20: 100%|██████████| 18/18 [00:00<00:00, 386.95it/s]\n"
          ]
        },
        {
          "name": "stdout",
          "output_type": "stream",
          "text": [
            "Epoch [13/20], Loss: 0.4106\n"
          ]
        },
        {
          "name": "stderr",
          "output_type": "stream",
          "text": [
            "Epoch 14/20: 100%|██████████| 18/18 [00:00<00:00, 592.25it/s]\n"
          ]
        },
        {
          "name": "stdout",
          "output_type": "stream",
          "text": [
            "Epoch [14/20], Loss: 0.4109\n"
          ]
        },
        {
          "name": "stderr",
          "output_type": "stream",
          "text": [
            "Epoch 15/20: 100%|██████████| 18/18 [00:00<00:00, 453.30it/s]\n"
          ]
        },
        {
          "name": "stdout",
          "output_type": "stream",
          "text": [
            "Epoch [15/20], Loss: 0.4099\n"
          ]
        },
        {
          "name": "stderr",
          "output_type": "stream",
          "text": [
            "Epoch 16/20: 100%|██████████| 18/18 [00:00<00:00, 771.09it/s]\n"
          ]
        },
        {
          "name": "stdout",
          "output_type": "stream",
          "text": [
            "Epoch [16/20], Loss: 0.4092\n"
          ]
        },
        {
          "name": "stderr",
          "output_type": "stream",
          "text": [
            "Epoch 17/20: 100%|██████████| 18/18 [00:00<00:00, 432.00it/s]\n"
          ]
        },
        {
          "name": "stdout",
          "output_type": "stream",
          "text": [
            "Epoch [17/20], Loss: 0.4102\n"
          ]
        },
        {
          "name": "stderr",
          "output_type": "stream",
          "text": [
            "Epoch 18/20: 100%|██████████| 18/18 [00:00<00:00, 662.71it/s]\n"
          ]
        },
        {
          "name": "stdout",
          "output_type": "stream",
          "text": [
            "Epoch [18/20], Loss: 0.4108\n"
          ]
        },
        {
          "name": "stderr",
          "output_type": "stream",
          "text": [
            "Epoch 19/20: 100%|██████████| 18/18 [00:00<00:00, 522.42it/s]\n"
          ]
        },
        {
          "name": "stdout",
          "output_type": "stream",
          "text": [
            "Epoch [19/20], Loss: 0.4105\n"
          ]
        },
        {
          "name": "stderr",
          "output_type": "stream",
          "text": [
            "Epoch 20/20: 100%|██████████| 18/18 [00:00<00:00, 721.37it/s]"
          ]
        },
        {
          "name": "stdout",
          "output_type": "stream",
          "text": [
            "Epoch [20/20], Loss: 0.4082\n"
          ]
        },
        {
          "name": "stderr",
          "output_type": "stream",
          "text": [
            "\n"
          ]
        }
      ],
      "source": [
        "# Instantiate the trainer\n",
        "trainer = SimpleMLPTrainer(model_L1, criterion, optimizer)\n",
        "\n",
        "# Train the model\n",
        "num_epochs = 20\n",
        "training_losses = trainer.train(train_loader, num_epochs)"
      ]
    },
    {
      "cell_type": "code",
      "execution_count": 10,
      "metadata": {},
      "outputs": [
        {
          "name": "stdout",
          "output_type": "stream",
          "text": [
            "Validation Loss: 0.3925, Accuracy: 0.6084\n"
          ]
        },
        {
          "name": "stderr",
          "output_type": "stream",
          "text": [
            "c:\\Users\\ASUS\\anaconda3\\envs\\torchcuda121\\lib\\site-packages\\torch\\nn\\modules\\loss.py:101: UserWarning: Using a target size (torch.Size([15])) that is different to the input size (torch.Size([15, 1])). This will likely lead to incorrect results due to broadcasting. Please ensure they have the same size.\n",
            "  return F.l1_loss(input, target, reduction=self.reduction)\n"
          ]
        }
      ],
      "source": [
        "# Evaluate the model\n",
        "test_loss, accuracy = trainer.evaluate(test_loader)"
      ]
    },
    {
      "cell_type": "markdown",
      "metadata": {},
      "source": [
        "---\n",
        "# 2. Types of Loss Functions\n",
        "\n",
        "PyTorch offers a variety of built-in loss functions tailored for different types of problems, such as regression, classification, and more. Below, we discuss several commonly used loss functions, their theoretical foundations, and typical use cases.\n",
        "\n",
        "### 2. MSELoss (`torch.nn.MSELoss`)\n",
        "- **Description:** Mean Squared Error (MSE) calculates the average of the squares of the differences between predicted and target values.\n",
        "- **Use Case:** Commonly used in regression problems where larger errors are significantly penalized.\n",
        "\n",
        "Here is boring math stuff for MSE:\n",
        "\\begin{equation}\n",
        "\\text{MSE} = \\frac{1}{n} \\sum_{i=1}^{n} (y_{i} - \\hat{y}_{i})^{2}\n",
        "\\end{equation}\n",
        "\n",
        "<span style=\"color:red; font-size: 18px; font-weight: bold;\">Warning:</span> Don't forget to reinitialize the model before experimenting with different loss functions."
      ]
    },
    {
      "cell_type": "code",
      "execution_count": 11,
      "metadata": {},
      "outputs": [
        {
          "name": "stderr",
          "output_type": "stream",
          "text": [
            "Epoch 1/20:   0%|          | 0/18 [00:00<?, ?it/s]c:\\Users\\ASUS\\anaconda3\\envs\\torchcuda121\\lib\\site-packages\\torch\\nn\\modules\\loss.py:535: UserWarning: Using a target size (torch.Size([32])) that is different to the input size (torch.Size([32, 1])). This will likely lead to incorrect results due to broadcasting. Please ensure they have the same size.\n",
            "  return F.mse_loss(input, target, reduction=self.reduction)\n",
            "c:\\Users\\ASUS\\anaconda3\\envs\\torchcuda121\\lib\\site-packages\\torch\\nn\\modules\\loss.py:535: UserWarning: Using a target size (torch.Size([27])) that is different to the input size (torch.Size([27, 1])). This will likely lead to incorrect results due to broadcasting. Please ensure they have the same size.\n",
            "  return F.mse_loss(input, target, reduction=self.reduction)\n",
            "Epoch 1/20: 100%|██████████| 18/18 [00:00<00:00, 538.64it/s]\n"
          ]
        },
        {
          "name": "stdout",
          "output_type": "stream",
          "text": [
            "Epoch [1/20], Loss: 0.2677\n"
          ]
        },
        {
          "name": "stderr",
          "output_type": "stream",
          "text": [
            "Epoch 2/20: 100%|██████████| 18/18 [00:00<00:00, 631.39it/s]\n"
          ]
        },
        {
          "name": "stdout",
          "output_type": "stream",
          "text": [
            "Epoch [2/20], Loss: 0.2499\n"
          ]
        },
        {
          "name": "stderr",
          "output_type": "stream",
          "text": [
            "Epoch 3/20: 100%|██████████| 18/18 [00:00<00:00, 592.76it/s]\n"
          ]
        },
        {
          "name": "stdout",
          "output_type": "stream",
          "text": [
            "Epoch [3/20], Loss: 0.2458\n"
          ]
        },
        {
          "name": "stderr",
          "output_type": "stream",
          "text": [
            "Epoch 4/20: 100%|██████████| 18/18 [00:00<00:00, 682.17it/s]\n"
          ]
        },
        {
          "name": "stdout",
          "output_type": "stream",
          "text": [
            "Epoch [4/20], Loss: 0.2435\n"
          ]
        },
        {
          "name": "stderr",
          "output_type": "stream",
          "text": [
            "Epoch 5/20: 100%|██████████| 18/18 [00:00<00:00, 495.78it/s]\n"
          ]
        },
        {
          "name": "stdout",
          "output_type": "stream",
          "text": [
            "Epoch [5/20], Loss: 0.2442\n"
          ]
        },
        {
          "name": "stderr",
          "output_type": "stream",
          "text": [
            "Epoch 6/20: 100%|██████████| 18/18 [00:00<00:00, 532.35it/s]\n"
          ]
        },
        {
          "name": "stdout",
          "output_type": "stream",
          "text": [
            "Epoch [6/20], Loss: 0.2435\n"
          ]
        },
        {
          "name": "stderr",
          "output_type": "stream",
          "text": [
            "Epoch 7/20: 100%|██████████| 18/18 [00:00<00:00, 646.94it/s]\n"
          ]
        },
        {
          "name": "stdout",
          "output_type": "stream",
          "text": [
            "Epoch [7/20], Loss: 0.2430\n"
          ]
        },
        {
          "name": "stderr",
          "output_type": "stream",
          "text": [
            "Epoch 8/20: 100%|██████████| 18/18 [00:00<00:00, 663.77it/s]\n"
          ]
        },
        {
          "name": "stdout",
          "output_type": "stream",
          "text": [
            "Epoch [8/20], Loss: 0.2431\n"
          ]
        },
        {
          "name": "stderr",
          "output_type": "stream",
          "text": [
            "Epoch 9/20: 100%|██████████| 18/18 [00:00<00:00, 706.52it/s]\n"
          ]
        },
        {
          "name": "stdout",
          "output_type": "stream",
          "text": [
            "Epoch [9/20], Loss: 0.2427\n"
          ]
        },
        {
          "name": "stderr",
          "output_type": "stream",
          "text": [
            "Epoch 10/20: 100%|██████████| 18/18 [00:00<00:00, 588.31it/s]\n"
          ]
        },
        {
          "name": "stdout",
          "output_type": "stream",
          "text": [
            "Epoch [10/20], Loss: 0.2426\n"
          ]
        },
        {
          "name": "stderr",
          "output_type": "stream",
          "text": [
            "Epoch 11/20: 100%|██████████| 18/18 [00:00<00:00, 608.23it/s]\n"
          ]
        },
        {
          "name": "stdout",
          "output_type": "stream",
          "text": [
            "Epoch [11/20], Loss: 0.2427\n"
          ]
        },
        {
          "name": "stderr",
          "output_type": "stream",
          "text": [
            "Epoch 12/20: 100%|██████████| 18/18 [00:00<00:00, 568.54it/s]\n"
          ]
        },
        {
          "name": "stdout",
          "output_type": "stream",
          "text": [
            "Epoch [12/20], Loss: 0.2432\n"
          ]
        },
        {
          "name": "stderr",
          "output_type": "stream",
          "text": [
            "Epoch 13/20: 100%|██████████| 18/18 [00:00<00:00, 664.03it/s]\n"
          ]
        },
        {
          "name": "stdout",
          "output_type": "stream",
          "text": [
            "Epoch [13/20], Loss: 0.2469\n"
          ]
        },
        {
          "name": "stderr",
          "output_type": "stream",
          "text": [
            "Epoch 14/20: 100%|██████████| 18/18 [00:00<00:00, 331.25it/s]\n"
          ]
        },
        {
          "name": "stdout",
          "output_type": "stream",
          "text": [
            "Epoch [14/20], Loss: 0.2427\n"
          ]
        },
        {
          "name": "stderr",
          "output_type": "stream",
          "text": [
            "Epoch 15/20: 100%|██████████| 18/18 [00:00<00:00, 633.29it/s]\n"
          ]
        },
        {
          "name": "stdout",
          "output_type": "stream",
          "text": [
            "Epoch [15/20], Loss: 0.2426\n"
          ]
        },
        {
          "name": "stderr",
          "output_type": "stream",
          "text": [
            "Epoch 16/20: 100%|██████████| 18/18 [00:00<00:00, 467.93it/s]\n"
          ]
        },
        {
          "name": "stdout",
          "output_type": "stream",
          "text": [
            "Epoch [16/20], Loss: 0.2427\n"
          ]
        },
        {
          "name": "stderr",
          "output_type": "stream",
          "text": [
            "Epoch 17/20: 100%|██████████| 18/18 [00:00<00:00, 253.70it/s]\n"
          ]
        },
        {
          "name": "stdout",
          "output_type": "stream",
          "text": [
            "Epoch [17/20], Loss: 0.2441\n"
          ]
        },
        {
          "name": "stderr",
          "output_type": "stream",
          "text": [
            "Epoch 18/20: 100%|██████████| 18/18 [00:00<00:00, 269.11it/s]\n"
          ]
        },
        {
          "name": "stdout",
          "output_type": "stream",
          "text": [
            "Epoch [18/20], Loss: 0.2427\n"
          ]
        },
        {
          "name": "stderr",
          "output_type": "stream",
          "text": [
            "Epoch 19/20: 100%|██████████| 18/18 [00:00<00:00, 224.33it/s]\n"
          ]
        },
        {
          "name": "stdout",
          "output_type": "stream",
          "text": [
            "Epoch [19/20], Loss: 0.2434\n"
          ]
        },
        {
          "name": "stderr",
          "output_type": "stream",
          "text": [
            "Epoch 20/20: 100%|██████████| 18/18 [00:00<00:00, 262.21it/s]"
          ]
        },
        {
          "name": "stdout",
          "output_type": "stream",
          "text": [
            "Epoch [20/20], Loss: 0.2419\n"
          ]
        },
        {
          "name": "stderr",
          "output_type": "stream",
          "text": [
            "\n"
          ]
        }
      ],
      "source": [
        "from torch.nn import MSELoss\n",
        "\n",
        "# Define model parameters\n",
        "input_dim = X.shape[1]  # Number of input features (Pclass, Sex, Age, Fare)\n",
        "hidden_dim = 16  # Number of units in hidden layer\n",
        "output_dim = 1  # Binary classification output (Survived or not)\n",
        "num_hidden_layers = 2\n",
        "\n",
        "# Initialize the model and move it to the device\n",
        "model_MSE = SimpleMLP(input_dim, hidden_dim, output_dim, num_hidden_layers=num_hidden_layers, last_layer_activation_fn=nn.Sigmoid)\n",
        "# model_MSE = model_MSE.to(device)  # Move model to the specified device\n",
        "\n",
        "# Initialize MSE Loss as the criterion and Adam as the optimizer\n",
        "criterion = MSELoss()\n",
        "optimizer = Adam(model_MSE.parameters(), lr=0.001)\n",
        "\n",
        "# Instantiate the trainer\n",
        "trainer = SimpleMLPTrainer(model_MSE, criterion, optimizer)\n",
        "\n",
        "# Train the model\n",
        "num_epochs = 20\n",
        "training_losses = trainer.train(train_loader, num_epochs)"
      ]
    },
    {
      "cell_type": "code",
      "execution_count": 13,
      "metadata": {},
      "outputs": [
        {
          "name": "stdout",
          "output_type": "stream",
          "text": [
            "Validation Loss: 0.2392, Accuracy: 0.6084\n"
          ]
        }
      ],
      "source": [
        "# Evaluate the model\n",
        "test_loss, accuracy = trainer.evaluate(test_loader)"
      ]
    },
    {
      "cell_type": "markdown",
      "metadata": {},
      "source": [
        "### 3. NLLLoss (`torch.nn.NLLLoss`)\n",
        "- **Description:** Negative Log-Likelihood Loss measures the likelihood of the target class under the predicted probability distribution.\n",
        "- **Use Case:** Typically used in multi-class classification tasks, especially when combined with `log_softmax` activation.\n",
        "\n",
        "Here is the mathematical formulation of NLLLoss:\n",
        "\\begin{equation}\n",
        "\\text{NLLLoss} = -\\frac{1}{n} \\sum_{i=1}^{n} \\log(y_{i})\n",
        "\\end{equation}\n",
        "\n",
        "I hope you note the logarithm in the formula. It's important! \n",
        "\n",
        "Why?\n",
        "\n",
        "Answer: Since NLLLoss directly uses `log(y_i)`, it expects log-probabilities as input rather than raw logits or probabilities. Using `log_softmax` as the final activation function ensures the output is in the correct format for `NLLLoss`. If you use only `ReLU` (or no `log_softmax`), the outputs won’t be log-probabilities, and `NLLLoss` would be applied incorrectly, leading to:\n",
        "\n",
        "Unstable gradients.\n",
        "Inconsistent or meaningless loss values\n",
        "\n",
        "In this part, run your training with Relu at last layer. <span style=\"color:red; font-weight: bold;\">Discuss </span> and explain the difference between the results of the two models. Find a proper solution to the problem.\n",
        "\n",
        "If you run training with `ReLU` as the last layer, the model’s output will not be in the form of log-probabilities, which is required by `NLLLoss`. This misalignment will likely lead to poor performance or even training failures. The solution to this problem is to replace the final activation with `log_softmax`, ensuring the output fits the expectation of `NLLLoss`.\n"
      ]
    },
    {
      "cell_type": "code",
      "execution_count": 14,
      "metadata": {},
      "outputs": [],
      "source": [
        "X_tensor = torch.tensor(X, dtype=torch.float32)\n",
        "y_tensor = torch.tensor(y, dtype=torch.long)\n",
        "\n",
        "# Split data into train and test sets\n",
        "X_train, X_test, y_train, y_test = train_test_split(X_tensor, y_tensor, test_size=0.2, random_state=42)\n",
        "\n",
        "# Create TensorDatasets and DataLoaders\n",
        "train_dataset = TensorDataset(X_train, y_train)\n",
        "test_dataset = TensorDataset(X_test, y_test)\n",
        "train_loader = DataLoader(train_dataset, batch_size=32, shuffle=True)\n",
        "test_loader = DataLoader(test_dataset, batch_size=32, shuffle=False)"
      ]
    },
    {
      "cell_type": "code",
      "execution_count": 15,
      "metadata": {},
      "outputs": [
        {
          "name": "stderr",
          "output_type": "stream",
          "text": [
            "Epoch 1/20: 100%|██████████| 18/18 [00:00<00:00, 350.90it/s]\n"
          ]
        },
        {
          "name": "stdout",
          "output_type": "stream",
          "text": [
            "Epoch [1/20], Loss: -0.3359\n"
          ]
        },
        {
          "name": "stderr",
          "output_type": "stream",
          "text": [
            "Epoch 2/20: 100%|██████████| 18/18 [00:00<00:00, 415.19it/s]\n"
          ]
        },
        {
          "name": "stdout",
          "output_type": "stream",
          "text": [
            "Epoch [2/20], Loss: -1.2595\n"
          ]
        },
        {
          "name": "stderr",
          "output_type": "stream",
          "text": [
            "Epoch 3/20: 100%|██████████| 18/18 [00:00<00:00, 296.03it/s]\n"
          ]
        },
        {
          "name": "stdout",
          "output_type": "stream",
          "text": [
            "Epoch [3/20], Loss: -2.2997\n"
          ]
        },
        {
          "name": "stderr",
          "output_type": "stream",
          "text": [
            "Epoch 4/20: 100%|██████████| 18/18 [00:00<00:00, 275.45it/s]\n"
          ]
        },
        {
          "name": "stdout",
          "output_type": "stream",
          "text": [
            "Epoch [4/20], Loss: -3.7494\n"
          ]
        },
        {
          "name": "stderr",
          "output_type": "stream",
          "text": [
            "Epoch 5/20: 100%|██████████| 18/18 [00:00<00:00, 261.82it/s]\n"
          ]
        },
        {
          "name": "stdout",
          "output_type": "stream",
          "text": [
            "Epoch [5/20], Loss: -5.8825\n"
          ]
        },
        {
          "name": "stderr",
          "output_type": "stream",
          "text": [
            "Epoch 6/20: 100%|██████████| 18/18 [00:00<00:00, 277.79it/s]\n"
          ]
        },
        {
          "name": "stdout",
          "output_type": "stream",
          "text": [
            "Epoch [6/20], Loss: -8.8293\n"
          ]
        },
        {
          "name": "stderr",
          "output_type": "stream",
          "text": [
            "Epoch 7/20: 100%|██████████| 18/18 [00:00<00:00, 334.43it/s]\n"
          ]
        },
        {
          "name": "stdout",
          "output_type": "stream",
          "text": [
            "Epoch [7/20], Loss: -12.9363\n"
          ]
        },
        {
          "name": "stderr",
          "output_type": "stream",
          "text": [
            "Epoch 8/20: 100%|██████████| 18/18 [00:00<00:00, 208.10it/s]\n"
          ]
        },
        {
          "name": "stdout",
          "output_type": "stream",
          "text": [
            "Epoch [8/20], Loss: -18.4914\n"
          ]
        },
        {
          "name": "stderr",
          "output_type": "stream",
          "text": [
            "Epoch 9/20: 100%|██████████| 18/18 [00:00<00:00, 247.43it/s]\n"
          ]
        },
        {
          "name": "stdout",
          "output_type": "stream",
          "text": [
            "Epoch [9/20], Loss: -26.2770\n"
          ]
        },
        {
          "name": "stderr",
          "output_type": "stream",
          "text": [
            "Epoch 10/20: 100%|██████████| 18/18 [00:00<00:00, 444.21it/s]\n"
          ]
        },
        {
          "name": "stdout",
          "output_type": "stream",
          "text": [
            "Epoch [10/20], Loss: -36.2976\n"
          ]
        },
        {
          "name": "stderr",
          "output_type": "stream",
          "text": [
            "Epoch 11/20: 100%|██████████| 18/18 [00:00<00:00, 539.80it/s]\n"
          ]
        },
        {
          "name": "stdout",
          "output_type": "stream",
          "text": [
            "Epoch [11/20], Loss: -50.4723\n"
          ]
        },
        {
          "name": "stderr",
          "output_type": "stream",
          "text": [
            "Epoch 12/20: 100%|██████████| 18/18 [00:00<00:00, 614.15it/s]\n"
          ]
        },
        {
          "name": "stdout",
          "output_type": "stream",
          "text": [
            "Epoch [12/20], Loss: -68.2054\n"
          ]
        },
        {
          "name": "stderr",
          "output_type": "stream",
          "text": [
            "Epoch 13/20: 100%|██████████| 18/18 [00:00<00:00, 509.62it/s]\n"
          ]
        },
        {
          "name": "stdout",
          "output_type": "stream",
          "text": [
            "Epoch [13/20], Loss: -91.3761\n"
          ]
        },
        {
          "name": "stderr",
          "output_type": "stream",
          "text": [
            "Epoch 14/20: 100%|██████████| 18/18 [00:00<00:00, 529.26it/s]\n"
          ]
        },
        {
          "name": "stdout",
          "output_type": "stream",
          "text": [
            "Epoch [14/20], Loss: -117.5143\n"
          ]
        },
        {
          "name": "stderr",
          "output_type": "stream",
          "text": [
            "Epoch 15/20: 100%|██████████| 18/18 [00:00<00:00, 567.69it/s]\n"
          ]
        },
        {
          "name": "stdout",
          "output_type": "stream",
          "text": [
            "Epoch [15/20], Loss: -150.8462\n"
          ]
        },
        {
          "name": "stderr",
          "output_type": "stream",
          "text": [
            "Epoch 16/20: 100%|██████████| 18/18 [00:00<00:00, 782.17it/s]\n"
          ]
        },
        {
          "name": "stdout",
          "output_type": "stream",
          "text": [
            "Epoch [16/20], Loss: -191.5641\n"
          ]
        },
        {
          "name": "stderr",
          "output_type": "stream",
          "text": [
            "Epoch 17/20: 100%|██████████| 18/18 [00:00<00:00, 623.20it/s]\n"
          ]
        },
        {
          "name": "stdout",
          "output_type": "stream",
          "text": [
            "Epoch [17/20], Loss: -236.6268\n"
          ]
        },
        {
          "name": "stderr",
          "output_type": "stream",
          "text": [
            "Epoch 18/20: 100%|██████████| 18/18 [00:00<00:00, 692.75it/s]\n"
          ]
        },
        {
          "name": "stdout",
          "output_type": "stream",
          "text": [
            "Epoch [18/20], Loss: -291.7410\n"
          ]
        },
        {
          "name": "stderr",
          "output_type": "stream",
          "text": [
            "Epoch 19/20: 100%|██████████| 18/18 [00:00<00:00, 766.86it/s]\n"
          ]
        },
        {
          "name": "stdout",
          "output_type": "stream",
          "text": [
            "Epoch [19/20], Loss: -352.0806\n"
          ]
        },
        {
          "name": "stderr",
          "output_type": "stream",
          "text": [
            "Epoch 20/20: 100%|██████████| 18/18 [00:00<00:00, 693.02it/s]"
          ]
        },
        {
          "name": "stdout",
          "output_type": "stream",
          "text": [
            "Epoch [20/20], Loss: -424.5749\n"
          ]
        },
        {
          "name": "stderr",
          "output_type": "stream",
          "text": [
            "\n"
          ]
        }
      ],
      "source": [
        "# Run with relu activation function\n",
        "from torch.nn import NLLLoss\n",
        "\n",
        "# Define model parameters\n",
        "input_dim = X.shape[1]  # Number of input features (Pclass, Sex, Age, Fare)\n",
        "hidden_dim = 16  # Number of units in hidden layer\n",
        "output_dim = 2  # Binary classification output (Survived or not)\n",
        "num_hidden_layers = 2\n",
        "\n",
        "# Initialize the model and move it to the device\n",
        "model_NLL_Relu = SimpleMLP(input_dim, hidden_dim, output_dim, num_hidden_layers=num_hidden_layers, last_layer_activation_fn=nn.ReLU)\n",
        "# model_NLL_Relu.to(device)\n",
        "\n",
        "# Initialize MSE Loss as the criterion and Adam as the optimizer\n",
        "criterion = NLLLoss()\n",
        "optimizer = Adam(model_NLL_Relu.parameters(), lr=0.001)\n",
        "\n",
        "# Instantiate the trainer\n",
        "trainer = SimpleMLPTrainer(model_NLL_Relu, criterion, optimizer)\n",
        "\n",
        "# Train the model\n",
        "num_epochs = 20\n",
        "training_losses = trainer.train(train_loader, num_epochs)"
      ]
    },
    {
      "cell_type": "code",
      "execution_count": 16,
      "metadata": {},
      "outputs": [
        {
          "name": "stdout",
          "output_type": "stream",
          "text": [
            "Validation Loss: -453.4514, Accuracy: 0.3916\n"
          ]
        }
      ],
      "source": [
        "# Evaluate the model\n",
        "test_loss, accuracy = trainer.evaluate(test_loader)"
      ]
    },
    {
      "cell_type": "code",
      "execution_count": 17,
      "metadata": {},
      "outputs": [
        {
          "name": "stderr",
          "output_type": "stream",
          "text": [
            "Epoch 1/20:   0%|          | 0/18 [00:00<?, ?it/s]c:\\Users\\ASUS\\anaconda3\\envs\\torchcuda121\\lib\\site-packages\\torch\\nn\\modules\\module.py:1511: UserWarning: Implicit dimension choice for log_softmax has been deprecated. Change the call to include dim=X as an argument.\n",
            "  return self._call_impl(*args, **kwargs)\n",
            "Epoch 1/20: 100%|██████████| 18/18 [00:00<00:00, 343.02it/s]\n"
          ]
        },
        {
          "name": "stdout",
          "output_type": "stream",
          "text": [
            "Epoch [1/20], Loss: 1.2253\n"
          ]
        },
        {
          "name": "stderr",
          "output_type": "stream",
          "text": [
            "Epoch 2/20: 100%|██████████| 18/18 [00:00<00:00, 454.89it/s]\n"
          ]
        },
        {
          "name": "stdout",
          "output_type": "stream",
          "text": [
            "Epoch [2/20], Loss: 0.7507\n"
          ]
        },
        {
          "name": "stderr",
          "output_type": "stream",
          "text": [
            "Epoch 3/20: 100%|██████████| 18/18 [00:00<00:00, 335.67it/s]\n"
          ]
        },
        {
          "name": "stdout",
          "output_type": "stream",
          "text": [
            "Epoch [3/20], Loss: 0.6330\n"
          ]
        },
        {
          "name": "stderr",
          "output_type": "stream",
          "text": [
            "Epoch 4/20: 100%|██████████| 18/18 [00:00<00:00, 302.23it/s]\n"
          ]
        },
        {
          "name": "stdout",
          "output_type": "stream",
          "text": [
            "Epoch [4/20], Loss: 0.5970\n"
          ]
        },
        {
          "name": "stderr",
          "output_type": "stream",
          "text": [
            "Epoch 5/20: 100%|██████████| 18/18 [00:00<00:00, 264.93it/s]\n"
          ]
        },
        {
          "name": "stdout",
          "output_type": "stream",
          "text": [
            "Epoch [5/20], Loss: 0.5906\n"
          ]
        },
        {
          "name": "stderr",
          "output_type": "stream",
          "text": [
            "Epoch 6/20: 100%|██████████| 18/18 [00:00<00:00, 392.24it/s]\n"
          ]
        },
        {
          "name": "stdout",
          "output_type": "stream",
          "text": [
            "Epoch [6/20], Loss: 0.5859\n"
          ]
        },
        {
          "name": "stderr",
          "output_type": "stream",
          "text": [
            "Epoch 7/20: 100%|██████████| 18/18 [00:00<00:00, 511.57it/s]\n"
          ]
        },
        {
          "name": "stdout",
          "output_type": "stream",
          "text": [
            "Epoch [7/20], Loss: 0.5865\n"
          ]
        },
        {
          "name": "stderr",
          "output_type": "stream",
          "text": [
            "Epoch 8/20: 100%|██████████| 18/18 [00:00<00:00, 657.79it/s]\n"
          ]
        },
        {
          "name": "stdout",
          "output_type": "stream",
          "text": [
            "Epoch [8/20], Loss: 0.5883\n"
          ]
        },
        {
          "name": "stderr",
          "output_type": "stream",
          "text": [
            "Epoch 9/20: 100%|██████████| 18/18 [00:00<00:00, 723.45it/s]\n"
          ]
        },
        {
          "name": "stdout",
          "output_type": "stream",
          "text": [
            "Epoch [9/20], Loss: 0.5827\n"
          ]
        },
        {
          "name": "stderr",
          "output_type": "stream",
          "text": [
            "Epoch 10/20: 100%|██████████| 18/18 [00:00<00:00, 636.47it/s]\n"
          ]
        },
        {
          "name": "stdout",
          "output_type": "stream",
          "text": [
            "Epoch [10/20], Loss: 0.5836\n"
          ]
        },
        {
          "name": "stderr",
          "output_type": "stream",
          "text": [
            "Epoch 11/20: 100%|██████████| 18/18 [00:00<00:00, 768.22it/s]\n"
          ]
        },
        {
          "name": "stdout",
          "output_type": "stream",
          "text": [
            "Epoch [11/20], Loss: 0.5810\n"
          ]
        },
        {
          "name": "stderr",
          "output_type": "stream",
          "text": [
            "Epoch 12/20: 100%|██████████| 18/18 [00:00<00:00, 379.31it/s]\n"
          ]
        },
        {
          "name": "stdout",
          "output_type": "stream",
          "text": [
            "Epoch [12/20], Loss: 0.5805\n"
          ]
        },
        {
          "name": "stderr",
          "output_type": "stream",
          "text": [
            "Epoch 13/20: 100%|██████████| 18/18 [00:00<00:00, 276.99it/s]\n"
          ]
        },
        {
          "name": "stdout",
          "output_type": "stream",
          "text": [
            "Epoch [13/20], Loss: 0.5827\n"
          ]
        },
        {
          "name": "stderr",
          "output_type": "stream",
          "text": [
            "Epoch 14/20: 100%|██████████| 18/18 [00:00<00:00, 320.17it/s]\n"
          ]
        },
        {
          "name": "stdout",
          "output_type": "stream",
          "text": [
            "Epoch [14/20], Loss: 0.5778\n"
          ]
        },
        {
          "name": "stderr",
          "output_type": "stream",
          "text": [
            "Epoch 15/20: 100%|██████████| 18/18 [00:00<00:00, 245.65it/s]\n"
          ]
        },
        {
          "name": "stdout",
          "output_type": "stream",
          "text": [
            "Epoch [15/20], Loss: 0.5741\n"
          ]
        },
        {
          "name": "stderr",
          "output_type": "stream",
          "text": [
            "Epoch 16/20: 100%|██████████| 18/18 [00:00<00:00, 158.37it/s]\n"
          ]
        },
        {
          "name": "stdout",
          "output_type": "stream",
          "text": [
            "Epoch [16/20], Loss: 0.5742\n"
          ]
        },
        {
          "name": "stderr",
          "output_type": "stream",
          "text": [
            "Epoch 17/20: 100%|██████████| 18/18 [00:00<00:00, 259.85it/s]\n"
          ]
        },
        {
          "name": "stdout",
          "output_type": "stream",
          "text": [
            "Epoch [17/20], Loss: 0.5688\n"
          ]
        },
        {
          "name": "stderr",
          "output_type": "stream",
          "text": [
            "Epoch 18/20: 100%|██████████| 18/18 [00:00<00:00, 236.96it/s]\n"
          ]
        },
        {
          "name": "stdout",
          "output_type": "stream",
          "text": [
            "Epoch [18/20], Loss: 0.5708\n"
          ]
        },
        {
          "name": "stderr",
          "output_type": "stream",
          "text": [
            "Epoch 19/20: 100%|██████████| 18/18 [00:00<00:00, 209.48it/s]\n"
          ]
        },
        {
          "name": "stdout",
          "output_type": "stream",
          "text": [
            "Epoch [19/20], Loss: 0.5710\n"
          ]
        },
        {
          "name": "stderr",
          "output_type": "stream",
          "text": [
            "Epoch 20/20: 100%|██████████| 18/18 [00:00<00:00, 232.77it/s]"
          ]
        },
        {
          "name": "stdout",
          "output_type": "stream",
          "text": [
            "Epoch [20/20], Loss: 0.5721\n"
          ]
        },
        {
          "name": "stderr",
          "output_type": "stream",
          "text": [
            "\n"
          ]
        }
      ],
      "source": [
        "# Run with relu activation function\n",
        "from torch.nn import NLLLoss\n",
        "\n",
        "# Define model parameters\n",
        "input_dim = X.shape[1]  # Number of input features (Pclass, Sex, Age, Fare)\n",
        "hidden_dim = 16  # Number of units in hidden layer\n",
        "output_dim = 2  # Binary classification output (Survived or not)\n",
        "num_hidden_layers = 2\n",
        "\n",
        "# Initialize the model and move it to the device\n",
        "model_NLL_LogSoftmax = SimpleMLP(input_dim, hidden_dim, output_dim, num_hidden_layers=num_hidden_layers, last_layer_activation_fn=nn.LogSoftmax)\n",
        "# model_NLL_Relu.to(device)\n",
        "\n",
        "# Initialize MSE Loss as the criterion and Adam as the optimizer\n",
        "criterion = NLLLoss()\n",
        "optimizer = Adam(model_NLL_LogSoftmax.parameters(), lr=0.001)\n",
        "\n",
        "# Instantiate the trainer\n",
        "trainer = SimpleMLPTrainer(model_NLL_LogSoftmax, criterion, optimizer)\n",
        "\n",
        "# Train the model\n",
        "num_epochs = 20\n",
        "training_losses = trainer.train(train_loader, num_epochs)"
      ]
    },
    {
      "cell_type": "code",
      "execution_count": 18,
      "metadata": {},
      "outputs": [
        {
          "name": "stdout",
          "output_type": "stream",
          "text": [
            "Validation Loss: 0.6592, Accuracy: 0.6084\n"
          ]
        }
      ],
      "source": [
        "# Evaluate the model\n",
        "test_loss, accuracy = trainer.evaluate(test_loader)"
      ]
    },
    {
      "cell_type": "markdown",
      "metadata": {},
      "source": [
        "Your reason for your choice:\n",
        "\n",
        "<div>\n",
        "**Your answer here**\n",
        "</div>"
      ]
    },
    {
      "cell_type": "markdown",
      "metadata": {},
      "source": [
        "\n",
        "### 4. CrossEntropyLoss (`torch.nn.CrossEntropyLoss`)\n",
        "- **Description:** Combines `LogSoftmax` and `NLLLoss` in one single class. It computes the cross-entropy loss between the target and the output logits.\n",
        "- **Use Case:** Widely used for multi-class classification problems.\n",
        "\n",
        "The mathematical formulation of CrossEntropyLoss is as follows:\n",
        "\\begin{equation}\n",
        "  \\text{CrossEntropy}(y, \\hat{y}) = - \\sum_{i=1}^{C} y_i \\log\\left(\\frac{e^{\\hat{y}_i}}{\\sum_{j=1}^{C} e^{\\hat{y}_j}}\\right)\n",
        "\\end{equation}\n",
        "  where:\n",
        "  - \\( C \\) is the number of classes,\n",
        "  - \\( y_i \\) is a one-hot encoded target vector (or a scalar class label),\n",
        "  - \\( \\hat{y}_i \\) represents the logits (unnormalized model outputs) for each class.\n",
        "  \n",
        "  In practice, `torch.nn.CrossEntropyLoss` expects raw logits as input and internally applies the softmax function to convert the logits into probabilities, followed by the negative log-likelihood computation.\n",
        "\n",
        "- **Background:** Cross-entropy measures the difference between the true distribution \\( y \\) and the predicted distribution \\( \\hat{y} \\). The function minimizes the negative log-probability assigned to the correct class, effectively penalizing predictions that deviate from the true class, making it a standard choice for classification tasks in deep learning.\n",
        "\n",
        "Now, let's implement a class called `SimpleMLP_Loss` that has the following architecture:\n"
      ]
    },
    {
      "cell_type": "code",
      "execution_count": 19,
      "metadata": {},
      "outputs": [
        {
          "name": "stderr",
          "output_type": "stream",
          "text": [
            "Epoch 1/20: 100%|██████████| 18/18 [00:00<00:00, 347.68it/s]\n"
          ]
        },
        {
          "name": "stdout",
          "output_type": "stream",
          "text": [
            "Epoch [1/20], Loss: 0.6823\n"
          ]
        },
        {
          "name": "stderr",
          "output_type": "stream",
          "text": [
            "Epoch 2/20: 100%|██████████| 18/18 [00:00<00:00, 489.79it/s]\n"
          ]
        },
        {
          "name": "stdout",
          "output_type": "stream",
          "text": [
            "Epoch [2/20], Loss: 0.6088\n"
          ]
        },
        {
          "name": "stderr",
          "output_type": "stream",
          "text": [
            "Epoch 3/20: 100%|██████████| 18/18 [00:00<00:00, 570.87it/s]\n"
          ]
        },
        {
          "name": "stdout",
          "output_type": "stream",
          "text": [
            "Epoch [3/20], Loss: 0.6018\n"
          ]
        },
        {
          "name": "stderr",
          "output_type": "stream",
          "text": [
            "Epoch 4/20: 100%|██████████| 18/18 [00:00<00:00, 711.91it/s]\n"
          ]
        },
        {
          "name": "stdout",
          "output_type": "stream",
          "text": [
            "Epoch [4/20], Loss: 0.6135\n"
          ]
        },
        {
          "name": "stderr",
          "output_type": "stream",
          "text": [
            "Epoch 5/20: 100%|██████████| 18/18 [00:00<00:00, 692.67it/s]\n"
          ]
        },
        {
          "name": "stdout",
          "output_type": "stream",
          "text": [
            "Epoch [5/20], Loss: 0.5999\n"
          ]
        },
        {
          "name": "stderr",
          "output_type": "stream",
          "text": [
            "Epoch 6/20: 100%|██████████| 18/18 [00:00<00:00, 740.44it/s]\n"
          ]
        },
        {
          "name": "stdout",
          "output_type": "stream",
          "text": [
            "Epoch [6/20], Loss: 0.5928\n"
          ]
        },
        {
          "name": "stderr",
          "output_type": "stream",
          "text": [
            "Epoch 7/20: 100%|██████████| 18/18 [00:00<00:00, 648.75it/s]\n"
          ]
        },
        {
          "name": "stdout",
          "output_type": "stream",
          "text": [
            "Epoch [7/20], Loss: 0.5881\n"
          ]
        },
        {
          "name": "stderr",
          "output_type": "stream",
          "text": [
            "Epoch 8/20: 100%|██████████| 18/18 [00:00<00:00, 673.81it/s]\n"
          ]
        },
        {
          "name": "stdout",
          "output_type": "stream",
          "text": [
            "Epoch [8/20], Loss: 0.5897\n"
          ]
        },
        {
          "name": "stderr",
          "output_type": "stream",
          "text": [
            "Epoch 9/20: 100%|██████████| 18/18 [00:00<00:00, 637.65it/s]\n"
          ]
        },
        {
          "name": "stdout",
          "output_type": "stream",
          "text": [
            "Epoch [9/20], Loss: 0.5861\n"
          ]
        },
        {
          "name": "stderr",
          "output_type": "stream",
          "text": [
            "Epoch 10/20: 100%|██████████| 18/18 [00:00<00:00, 639.45it/s]\n"
          ]
        },
        {
          "name": "stdout",
          "output_type": "stream",
          "text": [
            "Epoch [10/20], Loss: 0.5858\n"
          ]
        },
        {
          "name": "stderr",
          "output_type": "stream",
          "text": [
            "Epoch 11/20: 100%|██████████| 18/18 [00:00<00:00, 554.70it/s]\n"
          ]
        },
        {
          "name": "stdout",
          "output_type": "stream",
          "text": [
            "Epoch [11/20], Loss: 0.5853\n"
          ]
        },
        {
          "name": "stderr",
          "output_type": "stream",
          "text": [
            "Epoch 12/20: 100%|██████████| 18/18 [00:00<00:00, 853.92it/s]\n"
          ]
        },
        {
          "name": "stdout",
          "output_type": "stream",
          "text": [
            "Epoch [12/20], Loss: 0.5844\n"
          ]
        },
        {
          "name": "stderr",
          "output_type": "stream",
          "text": [
            "Epoch 13/20: 100%|██████████| 18/18 [00:00<00:00, 581.40it/s]\n"
          ]
        },
        {
          "name": "stdout",
          "output_type": "stream",
          "text": [
            "Epoch [13/20], Loss: 0.5820\n"
          ]
        },
        {
          "name": "stderr",
          "output_type": "stream",
          "text": [
            "Epoch 14/20: 100%|██████████| 18/18 [00:00<00:00, 282.86it/s]\n"
          ]
        },
        {
          "name": "stdout",
          "output_type": "stream",
          "text": [
            "Epoch [14/20], Loss: 0.5900\n"
          ]
        },
        {
          "name": "stderr",
          "output_type": "stream",
          "text": [
            "Epoch 15/20: 100%|██████████| 18/18 [00:00<00:00, 338.21it/s]\n"
          ]
        },
        {
          "name": "stdout",
          "output_type": "stream",
          "text": [
            "Epoch [15/20], Loss: 0.5901\n"
          ]
        },
        {
          "name": "stderr",
          "output_type": "stream",
          "text": [
            "Epoch 16/20: 100%|██████████| 18/18 [00:00<00:00, 357.09it/s]\n"
          ]
        },
        {
          "name": "stdout",
          "output_type": "stream",
          "text": [
            "Epoch [16/20], Loss: 0.5828\n"
          ]
        },
        {
          "name": "stderr",
          "output_type": "stream",
          "text": [
            "Epoch 17/20: 100%|██████████| 18/18 [00:00<00:00, 351.37it/s]\n"
          ]
        },
        {
          "name": "stdout",
          "output_type": "stream",
          "text": [
            "Epoch [17/20], Loss: 0.5809\n"
          ]
        },
        {
          "name": "stderr",
          "output_type": "stream",
          "text": [
            "Epoch 18/20: 100%|██████████| 18/18 [00:00<00:00, 296.08it/s]\n"
          ]
        },
        {
          "name": "stdout",
          "output_type": "stream",
          "text": [
            "Epoch [18/20], Loss: 0.5794\n"
          ]
        },
        {
          "name": "stderr",
          "output_type": "stream",
          "text": [
            "Epoch 19/20: 100%|██████████| 18/18 [00:00<00:00, 353.80it/s]\n"
          ]
        },
        {
          "name": "stdout",
          "output_type": "stream",
          "text": [
            "Epoch [19/20], Loss: 0.5793\n"
          ]
        },
        {
          "name": "stderr",
          "output_type": "stream",
          "text": [
            "Epoch 20/20: 100%|██████████| 18/18 [00:00<00:00, 359.28it/s]"
          ]
        },
        {
          "name": "stdout",
          "output_type": "stream",
          "text": [
            "Epoch [20/20], Loss: 0.5738\n"
          ]
        },
        {
          "name": "stderr",
          "output_type": "stream",
          "text": [
            "\n"
          ]
        }
      ],
      "source": [
        "from torch.nn import CrossEntropyLoss\n",
        "\n",
        "# Define model parameters\n",
        "input_dim = X.shape[1]  # Number of input features (Pclass, Sex, Age, Fare)\n",
        "hidden_dim = 16  # Number of units in hidden layer\n",
        "output_dim = 2  # Binary classification output (Survived or not)\n",
        "num_hidden_layers = 2\n",
        "\n",
        "# Initialize the model and move it to the device\n",
        "model_CE = SimpleMLP(input_dim, hidden_dim, output_dim, num_hidden_layers=num_hidden_layers, last_layer_activation_fn=None)\n",
        "# model_CE.to(device)\n",
        "\n",
        "# Initialize MSE Loss as the criterion and Adam as the optimizer\n",
        "criterion = CrossEntropyLoss()\n",
        "optimizer = Adam(model_CE.parameters(), lr=0.001)\n",
        "\n",
        "# Instantiate the trainer\n",
        "trainer = SimpleMLPTrainer(model_CE, criterion, optimizer)\n",
        "\n",
        "# Train the model\n",
        "num_epochs = 20\n",
        "training_losses = trainer.train(train_loader, num_epochs)"
      ]
    },
    {
      "cell_type": "code",
      "execution_count": 20,
      "metadata": {},
      "outputs": [
        {
          "name": "stdout",
          "output_type": "stream",
          "text": [
            "Validation Loss: 0.6466, Accuracy: 0.6154\n"
          ]
        }
      ],
      "source": [
        "# Evaluate the model\n",
        "test_loss, accuracy = trainer.evaluate(test_loader)"
      ]
    },
    {
      "cell_type": "markdown",
      "metadata": {},
      "source": [
        "\n",
        "### 5. KLDivLoss (`torch.nn.KLDivLoss`)\n",
        "- **Description:** Kullback-Leibler Divergence Loss measures how one probability distribution diverges from a second, reference distribution. Unlike other loss functions that focus on classification, KL divergence specifically compares the relative entropy between two distributions. It quantifies the information loss when using the predicted distribution to approximate the true distribution. \n",
        "\n",
        "- **Mathematical Function:**\n",
        "\\begin{equation}\n",
        "  \\text{KL}(P \\parallel Q) = \\sum_{i=1}^{C} P(i) \\left( \\log P(i) - \\log Q(i) \\right)\n",
        "\\end{equation}\n",
        "  where:\n",
        "  - \\( P \\) is the target (true) probability distribution,\n",
        "  - \\( Q \\) is the predicted distribution (often the output of `log_softmax`),\n",
        "  - \\( C \\) is the number of classes.\n",
        "\n",
        "  KL divergence is always non-negative, and it equals zero if the two distributions are identical. The loss function expects the model's output to be in the form of log-probabilities (using `log_softmax`) and compares this against a target probability distribution, which is typically a normalized distribution (using softmax).\n",
        "\n",
        "- **Use Case:** KLDivLoss is frequently used in:\n",
        "  - **Variational Autoencoders (VAEs):** In VAEs, KL divergence is used to measure how much the learned latent space distribution deviates from a prior distribution (often Gaussian).\n",
        "  - **Knowledge Distillation:** In teacher-student models, KL divergence is used to transfer the \"soft\" knowledge from a teacher model to a student model by comparing their output probability distributions.\n",
        "  - **Reinforcement Learning:** It can be used to update policies while minimizing the divergence from a previous policy.\n",
        "\n",
        "- **Background:** Kullback-Leibler divergence, a core concept in information theory, measures the inefficiency of assuming the predicted distribution \\( Q \\) when the true distribution is \\( P \\). It is asymmetric, meaning that \\( KL(P \\parallel Q) \\neq KL(Q \\parallel P) \\), so the direction of the comparison matters.\n",
        "\n",
        "Again, in this part, run your training with Relu at last layer. <span style=\"color:red; font-weight: bold;\">Discuss </span> and explain the difference between the results of the two models. Find a proper solution to the problem.\n",
        "\n",
        "Answer: Replace `ReLU` with `log_softmax` in the last layer. This ensures the model output is in the correct form (log-probabilities) and can be compared against the target distribution in a meaningful way.\n",
        "Using `log_softmax` in the final layer, you will observe stable loss values, faster convergence, and more reliable performance, as `KLDivLoss` will now be able to measure the divergence properly between the predicted and target distributions."
      ]
    },
    {
      "cell_type": "code",
      "execution_count": 21,
      "metadata": {},
      "outputs": [],
      "source": [
        "import torch.nn.functional as F\n",
        "\n",
        "X_tensor = torch.tensor(X, dtype=torch.float32)\n",
        "y_tensor = torch.tensor(y, dtype=torch.long)\n",
        "y_tensor = F.one_hot(y_tensor, num_classes=2).float()\n",
        "\n",
        "# Split data into train and test sets\n",
        "X_train, X_test, y_train, y_test = train_test_split(X_tensor, y_tensor, test_size=0.2, random_state=42)\n",
        "\n",
        "# Create TensorDatasets and DataLoaders\n",
        "train_dataset = TensorDataset(X_train, y_train)\n",
        "test_dataset = TensorDataset(X_test, y_test)\n",
        "train_loader = DataLoader(train_dataset, batch_size=32, shuffle=True)\n",
        "test_loader = DataLoader(test_dataset, batch_size=32, shuffle=False)"
      ]
    },
    {
      "cell_type": "code",
      "execution_count": 22,
      "metadata": {},
      "outputs": [
        {
          "name": "stderr",
          "output_type": "stream",
          "text": [
            "Epoch 1/20: 100%|██████████| 18/18 [00:00<00:00, 560.19it/s]\n"
          ]
        },
        {
          "name": "stdout",
          "output_type": "stream",
          "text": [
            "Epoch [1/20], Loss: -1.9587\n"
          ]
        },
        {
          "name": "stderr",
          "output_type": "stream",
          "text": [
            "Epoch 2/20: 100%|██████████| 18/18 [00:00<00:00, 1070.64it/s]\n"
          ]
        },
        {
          "name": "stdout",
          "output_type": "stream",
          "text": [
            "Epoch [2/20], Loss: -3.2984\n"
          ]
        },
        {
          "name": "stderr",
          "output_type": "stream",
          "text": [
            "Epoch 3/20: 100%|██████████| 18/18 [00:00<00:00, 721.92it/s]\n"
          ]
        },
        {
          "name": "stdout",
          "output_type": "stream",
          "text": [
            "Epoch [3/20], Loss: -5.3868\n"
          ]
        },
        {
          "name": "stderr",
          "output_type": "stream",
          "text": [
            "Epoch 4/20: 100%|██████████| 18/18 [00:00<00:00, 906.51it/s]\n"
          ]
        },
        {
          "name": "stdout",
          "output_type": "stream",
          "text": [
            "Epoch [4/20], Loss: -8.4288\n"
          ]
        },
        {
          "name": "stderr",
          "output_type": "stream",
          "text": [
            "Epoch 5/20: 100%|██████████| 18/18 [00:00<00:00, 452.72it/s]\n"
          ]
        },
        {
          "name": "stdout",
          "output_type": "stream",
          "text": [
            "Epoch [5/20], Loss: -13.0496\n"
          ]
        },
        {
          "name": "stderr",
          "output_type": "stream",
          "text": [
            "Epoch 6/20: 100%|██████████| 18/18 [00:00<00:00, 511.01it/s]\n"
          ]
        },
        {
          "name": "stdout",
          "output_type": "stream",
          "text": [
            "Epoch [6/20], Loss: -19.0498\n"
          ]
        },
        {
          "name": "stderr",
          "output_type": "stream",
          "text": [
            "Epoch 7/20: 100%|██████████| 18/18 [00:00<00:00, 576.92it/s]\n"
          ]
        },
        {
          "name": "stdout",
          "output_type": "stream",
          "text": [
            "Epoch [7/20], Loss: -28.1887\n"
          ]
        },
        {
          "name": "stderr",
          "output_type": "stream",
          "text": [
            "Epoch 8/20: 100%|██████████| 18/18 [00:00<00:00, 821.74it/s]\n"
          ]
        },
        {
          "name": "stdout",
          "output_type": "stream",
          "text": [
            "Epoch [8/20], Loss: -39.9642\n"
          ]
        },
        {
          "name": "stderr",
          "output_type": "stream",
          "text": [
            "Epoch 9/20: 100%|██████████| 18/18 [00:00<00:00, 820.82it/s]\n"
          ]
        },
        {
          "name": "stdout",
          "output_type": "stream",
          "text": [
            "Epoch [9/20], Loss: -55.6300\n"
          ]
        },
        {
          "name": "stderr",
          "output_type": "stream",
          "text": [
            "Epoch 10/20: 100%|██████████| 18/18 [00:00<00:00, 531.84it/s]\n"
          ]
        },
        {
          "name": "stdout",
          "output_type": "stream",
          "text": [
            "Epoch [10/20], Loss: -77.3023\n"
          ]
        },
        {
          "name": "stderr",
          "output_type": "stream",
          "text": [
            "Epoch 11/20: 100%|██████████| 18/18 [00:00<00:00, 731.28it/s]\n"
          ]
        },
        {
          "name": "stdout",
          "output_type": "stream",
          "text": [
            "Epoch [11/20], Loss: -105.5364\n"
          ]
        },
        {
          "name": "stderr",
          "output_type": "stream",
          "text": [
            "Epoch 12/20: 100%|██████████| 18/18 [00:00<00:00, 407.32it/s]\n"
          ]
        },
        {
          "name": "stdout",
          "output_type": "stream",
          "text": [
            "Epoch [12/20], Loss: -142.9996\n"
          ]
        },
        {
          "name": "stderr",
          "output_type": "stream",
          "text": [
            "Epoch 13/20: 100%|██████████| 18/18 [00:00<00:00, 411.85it/s]\n"
          ]
        },
        {
          "name": "stdout",
          "output_type": "stream",
          "text": [
            "Epoch [13/20], Loss: -186.5315\n"
          ]
        },
        {
          "name": "stderr",
          "output_type": "stream",
          "text": [
            "Epoch 14/20: 100%|██████████| 18/18 [00:00<00:00, 421.64it/s]\n"
          ]
        },
        {
          "name": "stdout",
          "output_type": "stream",
          "text": [
            "Epoch [14/20], Loss: -241.1785\n"
          ]
        },
        {
          "name": "stderr",
          "output_type": "stream",
          "text": [
            "Epoch 15/20: 100%|██████████| 18/18 [00:00<00:00, 302.99it/s]\n"
          ]
        },
        {
          "name": "stdout",
          "output_type": "stream",
          "text": [
            "Epoch [15/20], Loss: -307.8080\n"
          ]
        },
        {
          "name": "stderr",
          "output_type": "stream",
          "text": [
            "Epoch 16/20: 100%|██████████| 18/18 [00:00<00:00, 245.26it/s]\n"
          ]
        },
        {
          "name": "stdout",
          "output_type": "stream",
          "text": [
            "Epoch [16/20], Loss: -386.0494\n"
          ]
        },
        {
          "name": "stderr",
          "output_type": "stream",
          "text": [
            "Epoch 17/20: 100%|██████████| 18/18 [00:00<00:00, 544.92it/s]\n"
          ]
        },
        {
          "name": "stdout",
          "output_type": "stream",
          "text": [
            "Epoch [17/20], Loss: -481.7671\n"
          ]
        },
        {
          "name": "stderr",
          "output_type": "stream",
          "text": [
            "Epoch 18/20: 100%|██████████| 18/18 [00:00<00:00, 470.97it/s]\n"
          ]
        },
        {
          "name": "stdout",
          "output_type": "stream",
          "text": [
            "Epoch [18/20], Loss: -583.8053\n"
          ]
        },
        {
          "name": "stderr",
          "output_type": "stream",
          "text": [
            "Epoch 19/20: 100%|██████████| 18/18 [00:00<00:00, 612.17it/s]\n"
          ]
        },
        {
          "name": "stdout",
          "output_type": "stream",
          "text": [
            "Epoch [19/20], Loss: -703.3131\n"
          ]
        },
        {
          "name": "stderr",
          "output_type": "stream",
          "text": [
            "Epoch 20/20: 100%|██████████| 18/18 [00:00<00:00, 412.57it/s]"
          ]
        },
        {
          "name": "stdout",
          "output_type": "stream",
          "text": [
            "Epoch [20/20], Loss: -831.2457\n"
          ]
        },
        {
          "name": "stderr",
          "output_type": "stream",
          "text": [
            "\n"
          ]
        }
      ],
      "source": [
        "# Run with relu activation function\n",
        "from torch.nn import KLDivLoss\n",
        "\n",
        "# Define model parameters\n",
        "input_dim = X.shape[1]  # Number of input features (Pclass, Sex, Age, Fare)\n",
        "hidden_dim = 16  # Number of units in hidden layer\n",
        "output_dim = 2  # Binary classification output (Survived or not)\n",
        "num_hidden_layers = 2\n",
        "\n",
        "# Initialize the model and move it to the device\n",
        "model_KLDV_Relu = SimpleMLP(input_dim, hidden_dim, output_dim, num_hidden_layers=num_hidden_layers, last_layer_activation_fn=nn.ReLU)\n",
        "# model_KLDV_Relu.to(model_KLDV_Relu)\n",
        "\n",
        "criterion = KLDivLoss(reduction=\"batchmean\")\n",
        "optimizer = Adam(model_KLDV_Relu.parameters(), lr=0.001)\n",
        "\n",
        "# Instantiate the trainer\n",
        "trainer = SimpleMLPTrainer(model_KLDV_Relu, criterion, optimizer)\n",
        "\n",
        "# Train the model\n",
        "num_epochs = 20\n",
        "training_losses = trainer.train(train_loader, num_epochs)"
      ]
    },
    {
      "cell_type": "code",
      "execution_count": 23,
      "metadata": {},
      "outputs": [
        {
          "name": "stdout",
          "output_type": "stream",
          "text": [
            "Validation Loss: -880.0218, Accuracy: 0.3916\n"
          ]
        }
      ],
      "source": [
        "# Evaluate the model\n",
        "test_loss, accuracy = trainer.evaluate(test_loader)"
      ]
    },
    {
      "cell_type": "code",
      "execution_count": 24,
      "metadata": {},
      "outputs": [
        {
          "name": "stderr",
          "output_type": "stream",
          "text": [
            "Epoch 1/20: 100%|██████████| 18/18 [00:00<00:00, 500.42it/s]\n"
          ]
        },
        {
          "name": "stdout",
          "output_type": "stream",
          "text": [
            "Epoch [1/20], Loss: 1.0039\n"
          ]
        },
        {
          "name": "stderr",
          "output_type": "stream",
          "text": [
            "Epoch 2/20: 100%|██████████| 18/18 [00:00<00:00, 379.03it/s]\n"
          ]
        },
        {
          "name": "stdout",
          "output_type": "stream",
          "text": [
            "Epoch [2/20], Loss: 0.6769\n"
          ]
        },
        {
          "name": "stderr",
          "output_type": "stream",
          "text": [
            "Epoch 3/20: 100%|██████████| 18/18 [00:00<00:00, 475.53it/s]\n"
          ]
        },
        {
          "name": "stdout",
          "output_type": "stream",
          "text": [
            "Epoch [3/20], Loss: 0.6394\n"
          ]
        },
        {
          "name": "stderr",
          "output_type": "stream",
          "text": [
            "Epoch 4/20: 100%|██████████| 18/18 [00:00<00:00, 605.10it/s]\n"
          ]
        },
        {
          "name": "stdout",
          "output_type": "stream",
          "text": [
            "Epoch [4/20], Loss: 0.6332\n"
          ]
        },
        {
          "name": "stderr",
          "output_type": "stream",
          "text": [
            "Epoch 5/20: 100%|██████████| 18/18 [00:00<00:00, 643.56it/s]\n"
          ]
        },
        {
          "name": "stdout",
          "output_type": "stream",
          "text": [
            "Epoch [5/20], Loss: 0.6179\n"
          ]
        },
        {
          "name": "stderr",
          "output_type": "stream",
          "text": [
            "Epoch 6/20: 100%|██████████| 18/18 [00:00<00:00, 641.69it/s]\n"
          ]
        },
        {
          "name": "stdout",
          "output_type": "stream",
          "text": [
            "Epoch [6/20], Loss: 0.6127\n"
          ]
        },
        {
          "name": "stderr",
          "output_type": "stream",
          "text": [
            "Epoch 7/20: 100%|██████████| 18/18 [00:00<00:00, 590.49it/s]\n"
          ]
        },
        {
          "name": "stdout",
          "output_type": "stream",
          "text": [
            "Epoch [7/20], Loss: 0.6155\n"
          ]
        },
        {
          "name": "stderr",
          "output_type": "stream",
          "text": [
            "Epoch 8/20: 100%|██████████| 18/18 [00:00<00:00, 656.08it/s]\n"
          ]
        },
        {
          "name": "stdout",
          "output_type": "stream",
          "text": [
            "Epoch [8/20], Loss: 0.6123\n"
          ]
        },
        {
          "name": "stderr",
          "output_type": "stream",
          "text": [
            "Epoch 9/20: 100%|██████████| 18/18 [00:00<00:00, 512.14it/s]\n"
          ]
        },
        {
          "name": "stdout",
          "output_type": "stream",
          "text": [
            "Epoch [9/20], Loss: 0.6109\n"
          ]
        },
        {
          "name": "stderr",
          "output_type": "stream",
          "text": [
            "Epoch 10/20: 100%|██████████| 18/18 [00:00<00:00, 546.74it/s]\n"
          ]
        },
        {
          "name": "stdout",
          "output_type": "stream",
          "text": [
            "Epoch [10/20], Loss: 0.6135\n"
          ]
        },
        {
          "name": "stderr",
          "output_type": "stream",
          "text": [
            "Epoch 11/20: 100%|██████████| 18/18 [00:00<00:00, 459.65it/s]\n"
          ]
        },
        {
          "name": "stdout",
          "output_type": "stream",
          "text": [
            "Epoch [11/20], Loss: 0.6166\n"
          ]
        },
        {
          "name": "stderr",
          "output_type": "stream",
          "text": [
            "Epoch 12/20: 100%|██████████| 18/18 [00:00<00:00, 360.69it/s]\n"
          ]
        },
        {
          "name": "stdout",
          "output_type": "stream",
          "text": [
            "Epoch [12/20], Loss: 0.6047\n"
          ]
        },
        {
          "name": "stderr",
          "output_type": "stream",
          "text": [
            "Epoch 13/20: 100%|██████████| 18/18 [00:00<00:00, 374.18it/s]\n"
          ]
        },
        {
          "name": "stdout",
          "output_type": "stream",
          "text": [
            "Epoch [13/20], Loss: 0.5991\n"
          ]
        },
        {
          "name": "stderr",
          "output_type": "stream",
          "text": [
            "Epoch 14/20: 100%|██████████| 18/18 [00:00<00:00, 422.04it/s]\n"
          ]
        },
        {
          "name": "stdout",
          "output_type": "stream",
          "text": [
            "Epoch [14/20], Loss: 0.6020\n"
          ]
        },
        {
          "name": "stderr",
          "output_type": "stream",
          "text": [
            "Epoch 15/20: 100%|██████████| 18/18 [00:00<00:00, 426.61it/s]\n"
          ]
        },
        {
          "name": "stdout",
          "output_type": "stream",
          "text": [
            "Epoch [15/20], Loss: 0.6008\n"
          ]
        },
        {
          "name": "stderr",
          "output_type": "stream",
          "text": [
            "Epoch 16/20: 100%|██████████| 18/18 [00:00<00:00, 467.85it/s]\n"
          ]
        },
        {
          "name": "stdout",
          "output_type": "stream",
          "text": [
            "Epoch [16/20], Loss: 0.6059\n"
          ]
        },
        {
          "name": "stderr",
          "output_type": "stream",
          "text": [
            "Epoch 17/20: 100%|██████████| 18/18 [00:00<00:00, 372.54it/s]\n"
          ]
        },
        {
          "name": "stdout",
          "output_type": "stream",
          "text": [
            "Epoch [17/20], Loss: 0.6015\n"
          ]
        },
        {
          "name": "stderr",
          "output_type": "stream",
          "text": [
            "Epoch 18/20: 100%|██████████| 18/18 [00:00<00:00, 439.93it/s]\n"
          ]
        },
        {
          "name": "stdout",
          "output_type": "stream",
          "text": [
            "Epoch [18/20], Loss: 0.5964\n"
          ]
        },
        {
          "name": "stderr",
          "output_type": "stream",
          "text": [
            "Epoch 19/20: 100%|██████████| 18/18 [00:00<00:00, 478.53it/s]\n"
          ]
        },
        {
          "name": "stdout",
          "output_type": "stream",
          "text": [
            "Epoch [19/20], Loss: 0.5929\n"
          ]
        },
        {
          "name": "stderr",
          "output_type": "stream",
          "text": [
            "Epoch 20/20: 100%|██████████| 18/18 [00:00<00:00, 486.44it/s]"
          ]
        },
        {
          "name": "stdout",
          "output_type": "stream",
          "text": [
            "Epoch [20/20], Loss: 0.5903\n"
          ]
        },
        {
          "name": "stderr",
          "output_type": "stream",
          "text": [
            "\n"
          ]
        }
      ],
      "source": [
        "# Run with --- activation function\n",
        "from torch.nn import KLDivLoss\n",
        "\n",
        "# Run with relu activation function\n",
        "from torch.nn import KLDivLoss\n",
        "\n",
        "# Define model parameters\n",
        "input_dim = X.shape[1]  # Number of input features (Pclass, Sex, Age, Fare)\n",
        "hidden_dim = 16  # Number of units in hidden layer\n",
        "output_dim = 2  # Binary classification output (Survived or not)\n",
        "num_hidden_layers = 2\n",
        "\n",
        "# Initialize the model and move it to the device\n",
        "model_KLDV_LogSoftMax = SimpleMLP(input_dim, hidden_dim, output_dim, num_hidden_layers=num_hidden_layers, last_layer_activation_fn=nn.LogSoftmax)\n",
        "# model_KLDV_LogSoiftMax.to(model_KLDV_LogSoiftMax)\n",
        "\n",
        "criterion = KLDivLoss(reduction=\"batchmean\")\n",
        "optimizer = Adam(model_KLDV_LogSoftMax.parameters(), lr=0.001)\n",
        "\n",
        "# Instantiate the trainer\n",
        "trainer = SimpleMLPTrainer(model_KLDV_LogSoftMax, criterion, optimizer)\n",
        "\n",
        "# Train the model\n",
        "num_epochs = 20\n",
        "training_losses = trainer.train(train_loader, num_epochs)"
      ]
    },
    {
      "cell_type": "code",
      "execution_count": 25,
      "metadata": {},
      "outputs": [
        {
          "name": "stdout",
          "output_type": "stream",
          "text": [
            "Validation Loss: 0.6584, Accuracy: 0.6154\n"
          ]
        }
      ],
      "source": [
        "# Evaluate the model\n",
        "test_loss, accuracy = trainer.evaluate(test_loader)"
      ]
    },
    {
      "cell_type": "markdown",
      "metadata": {},
      "source": [
        "Your reason for your choice:\n",
        "\n",
        "<div>\n",
        "**Your answer here**\n",
        "</div>"
      ]
    },
    {
      "cell_type": "markdown",
      "metadata": {},
      "source": [
        "### 6. CosineEmbeddingLoss (`torch.nn.CosineEmbeddingLoss`)\n",
        "- **Description:** Measures the cosine similarity between two input tensors, `x1` and `x2`, and computes the loss based on a label `y` that indicates whether the tensors should be similar (`y = 1`) or dissimilar (`y = -1`). Cosine similarity focuses on the angle between vectors, disregarding their magnitude.\n",
        "\n",
        "- **Mathematical Function:** \n",
        "\\begin{equation}\n",
        "  \\text{CosineEmbeddingLoss}(x1, x2, y) = \n",
        "  \\begin{cases} \n",
        "  1 - \\cos(x_1, x_2), & \\text{if } y = 1 \\\\\n",
        "  \\max(0, \\cos(x_1, x_2) - \\text{margin}), & \\text{if } y = -1\n",
        "  \\end{cases}\n",
        "\\end{equation}\n",
        "  where $ \\cos(x_1, x_2) $ is the cosine similarity between the two vectors, and `margin` is a threshold that determines how dissimilar the vectors should be.\n",
        "\n",
        "- **Use Case:** Commonly used in tasks like face verification, image similarity, and other scenarios where the relative orientation of vectors (angle) is more important than their length, such as in embeddings and metric learning.\n",
        "\n",
        "- **Background:** Cosine similarity compares the directional alignment of vectors, making it ideal for high-dimensional data where the magnitude may not be as informative. This loss is particularly useful when training models to learn meaningful embeddings that capture semantic similarity.\n",
        "\n",
        "You'll become more fimiliar with this loss function in future.\n",
        "\n",
        "---"
      ]
    },
    {
      "cell_type": "markdown",
      "metadata": {},
      "source": [
        "# Regularization in Machine Learning\n",
        "\n",
        "## Introduction\n",
        "\n",
        "Regularization is a fundamental technique in machine learning that helps prevent overfitting by adding a penalty to the loss function. This penalty discourages the model from becoming too complex, ensuring better generalization to unseen data. In this notebook, you will explore the concepts of regularization, understand different types of regularization techniques, and apply them using Python's popular libraries.\n",
        "\n",
        "## What is Regularization?\n",
        "\n",
        "Regularization involves adding a regularization term to the loss function used to train machine learning models. This term imposes a constraint on the model's coefficients, effectively reducing their magnitude. By doing so, regularization helps in:\n",
        "\n",
        "- **Preventing Overfitting:** Ensures the model does not become too tailored to the training data.\n",
        "- **Improving Generalization:** Enhances the model's performance on new, unseen data.\n",
        "- **Feature Selection:** Especially in L1 regularization, it can drive some coefficients to zero, effectively selecting important features.\n",
        "\n",
        "## Types of Regularization\n",
        "\n",
        "There are several types of regularization techniques, each imposing different constraints on the model's parameters:\n",
        "\n",
        "### 1. L1 Regularization (Lasso)\n",
        "\n",
        "L1 regularization adds the absolute value of the magnitude of coefficients as a penalty term to the loss function. It can lead to sparse models where some feature coefficients are exactly zero.\n",
        "\n",
        "### 2. L2 Regularization (Ridge)\n",
        "\n",
        "L2 regularization adds the squared magnitude of coefficients as a penalty term to the loss function. It tends to shrink the coefficients evenly but does not set them to zero.\n",
        "\n",
        "### 3. Elastic Net\n",
        "\n",
        "Elastic Net combines both L1 and L2 regularization penalties. It balances the benefits of both Lasso and Ridge methods, allowing for feature selection and coefficient shrinkage."
      ]
    },
    {
      "cell_type": "markdown",
      "metadata": {},
      "source": [
        "## Homework Time!\n",
        "Import Iris dataset from sklearn.datasets and apply ridge regression with different alpha values. Then, create a gif that shows the changes of the classification boundary with respect to alpha values."
      ]
    },
    {
      "cell_type": "markdown",
      "metadata": {},
      "source": [
        "Import the libs that you need and start coding!"
      ]
    },
    {
      "cell_type": "code",
      "execution_count": 26,
      "metadata": {},
      "outputs": [],
      "source": [
        "import numpy as np\n",
        "import matplotlib.pyplot as plt\n",
        "from sklearn.datasets import load_iris\n",
        "from sklearn.preprocessing import StandardScaler\n",
        "from sklearn.model_selection import train_test_split\n",
        "from PIL import Image\n",
        "from io import BytesIO\n",
        "import imageio\n",
        "import warnings\n",
        "\n",
        "\n",
        "# Suppress warnings for cleaner output\n",
        "warnings.filterwarnings(\"ignore\")"
      ]
    },
    {
      "cell_type": "markdown",
      "metadata": {},
      "source": [
        "Load the Iris dataset and select Setosa and Versicolor classes"
      ]
    },
    {
      "cell_type": "code",
      "execution_count": 27,
      "metadata": {},
      "outputs": [],
      "source": [
        "# 1. Load the Iris Dataset\n",
        "iris = load_iris()\n",
        "X = iris.data  # Features\n",
        "y = iris.target  # Target labels\n",
        "\n",
        "# 2. Select only two classes (Setosa and Versicolor) for binary classification\n",
        "# and two features (Sepal Length and Petal Length) for 2D visualization\n",
        "# Class 0 = Setosa, Class 1 = Versicolor\n",
        "mask = np.where((y == 0) | (y == 1))  # Select only Setosa and Versicolor (label 0 and 1)\n",
        "X = X[mask][:, [0, 2]]  # Use only Sepal Length and Petal Length\n",
        "y = y[mask]\n",
        "\n",
        "# 3. Split into training and testing sets\n",
        "X_train, X_test, y_train, y_test = train_test_split(X, y, test_size=0.2, random_state=42)\n",
        "\n",
        "# 4. Standardize the features\n",
        "scaler = StandardScaler()\n",
        "X_train = scaler.fit_transform(X_train)\n",
        "X_test = scaler.transform(X_test)\n",
        "\n",
        "# 5. Convert to PyTorch tensors\n",
        "X_train_tensor = torch.tensor(X_train, dtype=torch.float32)\n",
        "y_train_tensor = torch.tensor(y_train, dtype=torch.long)  # Target needs to be long for classification\n",
        "X_test_tensor = torch.tensor(X_test, dtype=torch.float32)\n",
        "y_test_tensor = torch.tensor(y_test, dtype=torch.long)\n",
        "\n",
        "# 6. Create TensorDatasets and DataLoaders\n",
        "train_dataset = TensorDataset(X_train_tensor, y_train_tensor)\n",
        "test_dataset = TensorDataset(X_test_tensor, y_test_tensor)\n",
        "train_loader = DataLoader(train_dataset, batch_size=16, shuffle=True)\n",
        "test_loader = DataLoader(test_dataset, batch_size=16, shuffle=False)\n"
      ]
    },
    {
      "cell_type": "markdown",
      "metadata": {},
      "source": [
        "Define Function to Plot Decision Boundary"
      ]
    },
    {
      "cell_type": "code",
      "execution_count": 28,
      "metadata": {},
      "outputs": [],
      "source": [
        "import numpy as np\n",
        "import matplotlib.pyplot as plt\n",
        "from PIL import Image\n",
        "from io import BytesIO\n",
        "import torch\n",
        "\n",
        "def plot_decision_boundary(model, X, y, alpha=0.5):\n",
        "    # Define the grid\n",
        "    x_min, x_max = X[:, 0].min() - 1, X[:, 0].max() + 1\n",
        "    y_min, y_max = X[:, 1].min() - 1, X[:, 1].max() + 1\n",
        "    xx, yy = np.meshgrid(np.linspace(x_min, x_max, 100), np.linspace(y_min, y_max, 100))\n",
        "\n",
        "    # Predict over the grid\n",
        "    Z = model.predict(np.c_[xx.ravel(), yy.ravel()])\n",
        "    Z = Z.reshape(xx.shape)\n",
        "\n",
        "    # Create a figure\n",
        "    fig, ax = plt.subplots(figsize=(6, 5))\n",
        "\n",
        "    # Plot the decision boundary\n",
        "    ax.contourf(xx, yy, Z, alpha=0.3, levels=[-0.1, 0.1, 1.1], colors=['blue', 'red'])\n",
        "\n",
        "    # Scatter plot of the training data\n",
        "    scatter = ax.scatter(\n",
        "        X[:, 0], X[:, 1], c=y, cmap='bwr', edgecolor='k', s=50\n",
        "    )\n",
        "\n",
        "    # Title and labels\n",
        "    ax.set_title(f'MLP Decision Boundary (alpha={alpha})')\n",
        "    ax.set_xlabel('Sepal Length (standardized)')\n",
        "    ax.set_ylabel('Petal Length (standardized)')\n",
        "\n",
        "    # Remove axes for clarity\n",
        "    ax.set_xticks([])\n",
        "    ax.set_yticks([])\n",
        "\n",
        "    # Tight layout\n",
        "    plt.tight_layout()\n",
        "\n",
        "    # Save the plot to a BytesIO object\n",
        "    buf = BytesIO()\n",
        "    plt.savefig(buf, format='png')\n",
        "    plt.close(fig)\n",
        "    buf.seek(0)\n",
        "    return Image.open(buf)\n"
      ]
    },
    {
      "cell_type": "markdown",
      "metadata": {},
      "source": [
        "Train MLP with Varying Alpha Values and Collect Images"
      ]
    },
    {
      "cell_type": "code",
      "execution_count": 29,
      "metadata": {},
      "outputs": [],
      "source": [
        "from sklearn.neural_network import MLPClassifier\n",
        "\n",
        "def create_decision_boundary_gif(alpha_values, X_train, y_train, n_neurons):\n",
        "    # List to store images for each alpha value\n",
        "    images = []\n",
        "    \n",
        "    for idx, alpha in enumerate(alpha_values):\n",
        "        print(f\"Processing alpha={alpha:.4f} ({idx + 1}/{len(alpha_values)})\")\n",
        "\n",
        "        # Create and train the MLP\n",
        "        mlp = MLPClassifier(hidden_layer_sizes=(n_neurons,), alpha=alpha, max_iter=1000, random_state=42)\n",
        "        mlp.fit(X_train, y_train)\n",
        "\n",
        "        # Plot decision boundary and get the image\n",
        "        img = plot_decision_boundary(mlp, X_train, y_train, alpha)\n",
        "        images.append(img)\n",
        "\n",
        "        # Plot the decision boundary and get the image\n",
        "        img = plot_decision_boundary(mlp, X_train, y_train, alpha)\n",
        "        images.append(img)\n",
        "\n",
        "    # Save the images as a GIF\n",
        "    gif_filename = 'mlp_classification_boundaries.gif'\n",
        "    images[0].save(\n",
        "        gif_filename,\n",
        "        save_all=True,\n",
        "        append_images=images[1:],\n",
        "        duration=500,\n",
        "        loop=0\n",
        "    )\n",
        "\n",
        "    print(f\"GIF saved as '{gif_filename}'\")\n",
        "\n",
        "    # Return the GIF filename for display or use\n",
        "    return gif_filename"
      ]
    },
    {
      "cell_type": "markdown",
      "metadata": {},
      "source": [
        "## RUN"
      ]
    },
    {
      "cell_type": "code",
      "execution_count": 30,
      "metadata": {},
      "outputs": [
        {
          "name": "stdout",
          "output_type": "stream",
          "text": [
            "Processing alpha=0.0100 (1/20)\n",
            "Processing alpha=0.0162 (2/20)\n",
            "Processing alpha=0.0264 (3/20)\n",
            "Processing alpha=0.0428 (4/20)\n",
            "Processing alpha=0.0695 (5/20)\n",
            "Processing alpha=0.1129 (6/20)\n",
            "Processing alpha=0.1833 (7/20)\n",
            "Processing alpha=0.2976 (8/20)\n",
            "Processing alpha=0.4833 (9/20)\n",
            "Processing alpha=0.7848 (10/20)\n",
            "Processing alpha=1.2743 (11/20)\n",
            "Processing alpha=2.0691 (12/20)\n",
            "Processing alpha=3.3598 (13/20)\n",
            "Processing alpha=5.4556 (14/20)\n",
            "Processing alpha=8.8587 (15/20)\n",
            "Processing alpha=14.3845 (16/20)\n",
            "Processing alpha=23.3572 (17/20)\n",
            "Processing alpha=37.9269 (18/20)\n",
            "Processing alpha=61.5848 (19/20)\n",
            "Processing alpha=100.0000 (20/20)\n",
            "GIF saved as 'mlp_classification_boundaries.gif'\n"
          ]
        }
      ],
      "source": [
        "\n",
        "# Use np.logspace to generate alpha values, with at least 20 values\n",
        "alpha_values = np.logspace(-2, 2, 20)\n",
        "# Define the number of neurons in the hidden layer\n",
        "n_neurons =  10\n",
        "\n",
        "# Create the decision boundary GIF\n",
        "gif_dir = create_decision_boundary_gif(alpha_values, X_train, y_train, n_neurons)"
      ]
    },
    {
      "cell_type": "markdown",
      "metadata": {},
      "source": [
        "Your gif should look like this:"
      ]
    },
    {
      "cell_type": "markdown",
      "metadata": {},
      "source": [
        "<div style=\"text-align: center;\">\n",
        "\n",
        "### **Multilayer Perceptron Classification Boundaries**\n",
        "\n",
        "![Classification Boundaries](mlp_classification_boundaries_example.gif)\n",
        "\n",
        "*Figure 1: Demonstration of classification boundaries created by a Multilayer Perceptron (MLP) model.*\n",
        "\n",
        "</div>\n",
        "\n"
      ]
    }
  ],
  "metadata": {
    "colab": {
      "provenance": []
    },
    "kernelspec": {
      "display_name": "Python 3",
      "name": "python3"
    },
    "language_info": {
      "codemirror_mode": {
        "name": "ipython",
        "version": 3
      },
      "file_extension": ".py",
      "mimetype": "text/x-python",
      "name": "python",
      "nbconvert_exporter": "python",
      "pygments_lexer": "ipython3",
      "version": "3.9.19"
    }
  },
  "nbformat": 4,
  "nbformat_minor": 0
}
