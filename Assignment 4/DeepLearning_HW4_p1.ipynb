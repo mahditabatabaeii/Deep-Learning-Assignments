{
  "cells": [
    {
      "cell_type": "markdown",
      "metadata": {
        "id": "sp7D0ktn5eiG"
      },
      "source": [
        "\n",
        "<br>\n",
        "<font>\n",
        "<div dir=ltr align=center>\n",
        "<font color=0F5298 size=10>\n",
        "    Deep Learning - HW4 <br>\n",
        "<font color=2565AE size=5>\n",
        "    Electrical Engineering Department <br>\n",
        "    winter 2024<br>\n",
        "<font color=3C99D size=5>\n",
        "    Practical Assignment 1 <br>\n",
        "<font color=696880 size=4>\n",
        "    Niloufar Abbasi \n",
        "\n",
        "____"
      ]
    },
    {
      "cell_type": "markdown",
      "metadata": {},
      "source": [
        "# Emotion Recognition with Recurrent Neural Networks\n"
      ]
    },
    {
      "cell_type": "markdown",
      "metadata": {},
      "source": [
        "---\n",
        "\n",
        "## **Introduction**\n",
        "\n",
        "In this task, you will implement a Recurrent Neural Network (RNN) to perform tweet emotion recognition. The goal is to classify tweets into one of six basic emotions: \n",
        "- **0: sadness**\n",
        "- **1: joy**\n",
        "- **2: love**\n",
        "- **3: anger**\n",
        "- **4: fear**\n",
        "- **5: surprise**\n",
        "\n",
        "We will be using a dataset of tweets, where each tweet has been labeled with one of these emotions. Throughout this notebook, you will follow step-by-step instructions to build and train your model. As you progress, you'll complete the provided TODO sections by filling in the necessary code and functions.\n",
        "\n",
        "By the end of this exercise, you will:\n",
        "- Understand how to preprocess text data for use in RNN models.\n",
        "- Build and train a model using Pytorch.\n",
        "- Evaluate the performance of your model on the test set.\n",
        "\n",
        "---\n"
      ]
    },
    {
      "cell_type": "markdown",
      "metadata": {},
      "source": [
        "---\n",
        "\n",
        "## Task 1: Enter Your Information\n",
        "\n",
        "Before we begin, please enter your **student ID** and **name** in the code section below.\n",
        "\n",
        "Make sure to replace the placeholders with your actual information.\n",
        "\n",
        "---"
      ]
    },
    {
      "cell_type": "code",
      "execution_count": 1,
      "metadata": {},
      "outputs": [
        {
          "name": "stdout",
          "output_type": "stream",
          "text": [
            "Your name: Mahdi Tabatabaei\n",
            "Your student ID: 400101515\n"
          ]
        }
      ],
      "source": [
        "student_name = \"Mahdi Tabatabaei\"  # Replace with your name\n",
        "student_id   = 400101515  # Replace with your student ID\n",
        "\n",
        "print(\"Your name:\", student_name)\n",
        "print(\"Your student ID:\", student_id)"
      ]
    },
    {
      "cell_type": "markdown",
      "metadata": {},
      "source": [
        "---\n",
        "\n",
        "## Task 2: Setup and Imports\n",
        "\n",
        "In this task, we'll be preparing our environment by importing the necessary libraries. Please run the cells below to set everything up. If any library is missing on your end, make sure to install it.\n",
        "\n",
        "### Instructions:\n",
        "1. **Run the cells** to install any required packages and import the necessary libraries.\n",
        "2. If any library is not installed in your environment, use `!pip install <library_name>` to install it.\n",
        "---"
      ]
    },
    {
      "cell_type": "code",
      "execution_count": null,
      "metadata": {},
      "outputs": [],
      "source": [
        "!pip install datasets"
      ]
    },
    {
      "cell_type": "code",
      "execution_count": 2,
      "metadata": {},
      "outputs": [],
      "source": [
        "import warnings\n",
        "warnings.filterwarnings('ignore')"
      ]
    },
    {
      "cell_type": "markdown",
      "metadata": {},
      "source": [
        "Required Libraries:"
      ]
    },
    {
      "cell_type": "code",
      "execution_count": 3,
      "metadata": {},
      "outputs": [],
      "source": [
        "import torch\n",
        "import numpy as np\n",
        "import matplotlib.pyplot as plt\n",
        "from sklearn.metrics import confusion_matrix, classification_report\n",
        "from datasets import load_dataset\n",
        "from transformers import BertTokenizer\n",
        "import collections\n",
        "import seaborn as sns\n",
        "import torch.nn as nn\n",
        "import torch\n",
        "import torch.optim as optim\n",
        "from torch.utils.data import Dataset, DataLoader, TensorDataset\n",
        "from torchinfo import summary\n",
        "from types import SimpleNamespace\n",
        "\n",
        "%matplotlib inline"
      ]
    },
    {
      "cell_type": "markdown",
      "metadata": {},
      "source": [
        "### Additional Functions\n",
        "\n",
        "The following functions have been provided to help you visualize the results of your model training. These will allow you to analyze both the model's performance over time (through the training history) and how well it performs on individual predictions (through a confusion matrix).\n",
        "\n",
        "1. **`plot_history(hist)`**: This function takes the training history object (`hist`) from your model and plots both the accuracy and loss over the number of epochs for both training and validation sets. It provides an easy way to visually track the model's learning progress and performance.\n",
        "\n",
        "2. **`visualize_confusion_matrix(actual_labels, predicted_labels, classes)`**: After making predictions with your model, you can use this function to plot a confusion matrix. It shows the accuracy of your model across each class, helping to identify areas where the model is performing well and where it might be struggling. The matrix is normalized to make comparisons easier.\n",
        "\n",
        "These functions are for your convenience, you can directly use them after running your model to visualize the results.\n"
      ]
    },
    {
      "cell_type": "code",
      "execution_count": 4,
      "metadata": {},
      "outputs": [],
      "source": [
        "# Functions to visualize training history and confusion matrix\n",
        "def plot_history(hist):\n",
        "    epochs = len(hist.history['loss'])\n",
        "    plt.figure(figsize=(16, 6))\n",
        "\n",
        "    plt.subplot(1, 2, 1)\n",
        "    plt.plot(range(0, epochs), hist.history.get('accuracy'), label='Training')\n",
        "    plt.plot(range(0, epochs), hist.history.get('val_accuracy'), label='Validation')\n",
        "    plt.ylim([0., 1.])\n",
        "    plt.xlabel('Epochs')\n",
        "    plt.ylabel('Accuracy')\n",
        "    plt.legend()\n",
        "\n",
        "    plt.subplot(1, 2, 2)\n",
        "    plt.plot(range(0, epochs), hist.history.get('loss'), label='Training')\n",
        "    plt.plot(range(0, epochs), hist.history.get('val_loss'), label='Validation')\n",
        "    plt.xlabel('Epochs')\n",
        "    plt.ylabel('Loss')\n",
        "    plt.legend()\n",
        "    plt.show()\n",
        "\n",
        "def visualize_confusion_matrix(actual_labels, predicted_labels, classes):\n",
        "\n",
        "    cm = confusion_matrix(actual_labels, predicted_labels, normalize='true')\n",
        "\n",
        "    plt.figure(figsize=(8, 8))\n",
        "    sp = plt.subplot(1, 1, 1)\n",
        "    ctx = sp.matshow(cm)\n",
        "    plt.xticks(list(range(0, 6)), labels=classes)\n",
        "    plt.yticks(list(range(0, 6)), labels=classes)\n",
        "    plt.colorbar(ctx)\n",
        "    plt.show()\n"
      ]
    },
    {
      "cell_type": "markdown",
      "metadata": {},
      "source": [
        "---\n",
        "\n",
        "## Task 3: Importing Data\n",
        "\n",
        "In this task, we will\n",
        "\n",
        "- import the Tweet Emotion dataset\n",
        "\n",
        "- create training, validation, and test sets\n",
        "    \n",
        "- extract the tweets and their corresponding labels for further analysis\n",
        "\n",
        "---"
      ]
    },
    {
      "cell_type": "code",
      "execution_count": 5,
      "metadata": {
        "id": "0YHOvjAu5eiL"
      },
      "outputs": [
        {
          "data": {
            "text/plain": [
              "DatasetDict({\n",
              "    train: Dataset({\n",
              "        features: ['text', 'label'],\n",
              "        num_rows: 16000\n",
              "    })\n",
              "    validation: Dataset({\n",
              "        features: ['text', 'label'],\n",
              "        num_rows: 2000\n",
              "    })\n",
              "    test: Dataset({\n",
              "        features: ['text', 'label'],\n",
              "        num_rows: 2000\n",
              "    })\n",
              "})"
            ]
          },
          "execution_count": 5,
          "metadata": {},
          "output_type": "execute_result"
        }
      ],
      "source": [
        "dataset = load_dataset('emotion')\n",
        "dataset"
      ]
    },
    {
      "cell_type": "code",
      "execution_count": 6,
      "metadata": {
        "id": "2s0h541FxIgc"
      },
      "outputs": [
        {
          "name": "stdout",
          "output_type": "stream",
          "text": [
            "{'text': ['i didnt feel humiliated', 'i can go from feeling so hopeless to so damned hopeful just from being around someone who cares and is awake', 'im grabbing a minute to post i feel greedy wrong', 'i am ever feeling nostalgic about the fireplace i will know that it is still on the property', 'i am feeling grouchy'], 'label': [0, 0, 3, 2, 3]}\n"
          ]
        }
      ],
      "source": [
        "print(dataset['train'][0:5]) "
      ]
    },
    {
      "cell_type": "code",
      "execution_count": 7,
      "metadata": {
        "id": "z7eCnxU25eiN"
      },
      "outputs": [],
      "source": [
        "training = dataset['train']\n",
        "validation = dataset['validation']\n",
        "test = dataset['test']"
      ]
    },
    {
      "cell_type": "code",
      "execution_count": 8,
      "metadata": {
        "id": "oDYXMfZy5eiP"
      },
      "outputs": [
        {
          "name": "stdout",
          "output_type": "stream",
          "text": [
            "i didnt feel humiliated 0\n"
          ]
        }
      ],
      "source": [
        "def extract_tweets_labels(data):\n",
        "    tweets = [entry['text'] for entry in data]\n",
        "    labels = [entry['label'] for entry in data]\n",
        "    return tweets, labels\n",
        "\n",
        "tweets, labels = extract_tweets_labels(training)\n",
        "\n",
        "print(tweets[0], labels[0])\n"
      ]
    },
    {
      "cell_type": "markdown",
      "metadata": {},
      "source": [
        "---\n",
        "\n",
        "## Task 4: Tokenization of Tweets\n",
        "\n",
        "In this section, we will focus on the tokenization of the tweets in the dataset. Tokenization is a crucial step in natural language processing (NLP) that involves breaking down text into smaller units, such as words or subwords. This process enables the model to better understand and analyze the text data.\n",
        "\n",
        "### Objectives:\n",
        "1. Implement a tokenizer to convert the tweet texts into tokens.\n",
        "2. Ensure the tokenization process handles various aspects of the text, such as punctuation and special characters.\n",
        "\n",
        "By the end of this task, you will have a set of tokenized tweets ready for further processing in your NLP pipeline.\n",
        "\n",
        "---"
      ]
    },
    {
      "cell_type": "code",
      "execution_count": 9,
      "metadata": {
        "id": "qfX5-ResxIgq"
      },
      "outputs": [
        {
          "name": "stdout",
          "output_type": "stream",
          "text": [
            "Original Tweet: i didnt feel humiliated\n",
            "Tokenized Tweet: ['i', 'didn', '##t', 'feel', 'humiliated']\n"
          ]
        }
      ],
      "source": [
        "tokenizer = BertTokenizer.from_pretrained('bert-base-uncased')\n",
        "\n",
        "def tokenize_tweets(tweets):\n",
        "    tokenized_tweets = [tokenizer.tokenize(tweet) for tweet in tweets]\n",
        "    return tokenized_tweets\n",
        "\n",
        "sample_tweet = tweets[0]\n",
        "tokenized_sample = tokenizer.tokenize(sample_tweet)\n",
        "\n",
        "print(\"Original Tweet:\", sample_tweet)\n",
        "print(\"Tokenized Tweet:\", tokenized_sample)\n",
        "\n",
        "tokenized_tweets = tokenize_tweets(tweets)\n"
      ]
    },
    {
      "cell_type": "markdown",
      "metadata": {},
      "source": [
        "---\n",
        "\n",
        "## Task 5: Padding and Truncating Sequences\n",
        "\n",
        "In this task, we will prepare the tokenized tweets for model training by checking their lengths and creating padded sequences.\n",
        "\n",
        "1. **Checking the Length of the Tweets**\n",
        "   - Analyze the distribution of tweet lengths to understand the range of token counts in the dataset.\n",
        "\n",
        "2. **Creating Padded Sequences**\n",
        "   - After tokenizing the tweets, sequences of different lengths must be adjusted to a uniform length to facilitate training.\n",
        "\n",
        "---\n"
      ]
    },
    {
      "cell_type": "code",
      "execution_count": 10,
      "metadata": {},
      "outputs": [
        {
          "data": {
            "image/png": "[encoded data removed]",
            "text/plain": [
              "<Figure size 1000x600 with 1 Axes>"
            ]
          },
          "metadata": {},
          "output_type": "display_data"
        },
        {
          "name": "stdout",
          "output_type": "stream",
          "text": [
            "Min Length: 2\n",
            "Max Length: 85\n",
            "Mean Length: 20.2595\n",
            "Median Length: 18\n"
          ]
        }
      ],
      "source": [
        "def calculate_lengths(tweets):\n",
        "    tweet_lengths = [len(tokenizer.tokenize(tweet)) for tweet in tweets]\n",
        "    return tweet_lengths\n",
        "\n",
        "tweet_lengths = calculate_lengths(tweets)\n",
        "\n",
        "plt.figure(figsize=(10, 6))\n",
        "plt.hist(tweet_lengths, bins=50, color='skyblue', edgecolor='black')\n",
        "plt.title('Distribution of Tweet Lengths', fontsize=14)\n",
        "plt.xlabel('Tweet Length (Number of Tokens)', fontsize=12)\n",
        "plt.ylabel('Frequency', fontsize=12)\n",
        "plt.grid(True)\n",
        "plt.show()\n",
        "\n",
        "print(f\"Min Length: {min(tweet_lengths)}\")\n",
        "print(f\"Max Length: {max(tweet_lengths)}\")\n",
        "print(f\"Mean Length: {sum(tweet_lengths)/len(tweet_lengths)}\")\n",
        "print(f\"Median Length: {sorted(tweet_lengths)[len(tweet_lengths)//2]}\")"
      ]
    },
    {
      "cell_type": "code",
      "execution_count": 11,
      "metadata": {},
      "outputs": [
        {
          "data": {
            "text/plain": [
              "tensor([  101,  1045,  2134,  2102,  2514, 26608,   102,     0,     0,     0,\n",
              "            0,     0,     0,     0,     0,     0,     0,     0,     0,     0,\n",
              "            0,     0,     0,     0,     0,     0,     0,     0,     0,     0,\n",
              "            0,     0,     0,     0,     0,     0,     0,     0,     0,     0,\n",
              "            0,     0,     0,     0,     0,     0,     0,     0,     0,     0,\n",
              "            0,     0,     0,     0,     0,     0,     0,     0,     0,     0,\n",
              "            0,     0,     0,     0,     0,     0,     0,     0,     0,     0,\n",
              "            0,     0,     0,     0,     0,     0,     0,     0,     0,     0,\n",
              "            0,     0,     0,     0,     0,     0,     0,     0,     0,     0,\n",
              "            0,     0,     0,     0,     0,     0,     0,     0,     0,     0,\n",
              "            0,     0,     0,     0,     0,     0,     0,     0,     0,     0,\n",
              "            0,     0,     0,     0,     0,     0,     0,     0,     0,     0,\n",
              "            0,     0,     0,     0,     0,     0,     0,     0])"
            ]
          },
          "execution_count": 11,
          "metadata": {},
          "output_type": "execute_result"
        }
      ],
      "source": [
        "def get_sequences(tokenizer, tweets,max_length=128):\n",
        "    sequences = tokenizer(\n",
        "        tweets,                     \n",
        "        max_length=max_length,      \n",
        "        padding='max_length',       \n",
        "        truncation=True,            \n",
        "        return_tensors='pt'         \n",
        "    )\n",
        "    padded_sequences = sequences['input_ids']\n",
        "    return padded_sequences\n",
        "\n",
        "\n",
        "padded_train_sequences = get_sequences(tokenizer, tweets)\n",
        "padded_train_sequences[0]"
      ]
    },
    {
      "cell_type": "markdown",
      "metadata": {
        "id": "BURhOX_KxIg8"
      },
      "source": [
        "---\n",
        "\n",
        "## Task 6: Analyzing Label Distribution\n",
        "\n",
        "1. Checking the distribution of labels.\n",
        "2. Addressing any class imbalance using appropriate techniques.\n",
        "\n",
        "Note:\n",
        "\n",
        "(**Providing a clear explanation of the chosen method to address the imbalance and how it will improve the model’s performance is critical.** Without handling class imbalance properly, the model could achieve a high accuracy by focusing on the majority class, but it may perform poorly on the minority class, which would result in misleading metrics and reduced generalization.\n",
        "\n",
        "Hence, it is important to not only implement an appropriate solution but also **justify** why the selected approach is effective for the given task.)\n",
        "\n",
        "---"
      ]
    },
    {
      "cell_type": "markdown",
      "metadata": {},
      "source": [
        "### Addressing Class Imbalance Based on Your Code\n",
        "\n",
        "The code snippet provided calculates the distribution of labels in terms of counts and percentages. This information is crucial to identify any imbalance in the dataset. Based on this, here is a method to address the imbalance and how it improves the model's performance:\n",
        "\n",
        "---\n",
        "\n",
        "#### **Method: Weighted Loss Function**\n",
        "Using the label distribution percentages calculated in your code, you can assign class weights proportional to the inverse frequency of each class. This ensures that minority classes are given more importance during training, while majority classes are weighted less.\n",
        "\n",
        "**Steps:**\n",
        "1. Use the `label_percentages` dictionary in your code to compute class weights:\n",
        "   ```python\n",
        "   class_weights = {k: 1 / v for k, v in label_percentages.items()}\n",
        "    ```\n",
        "Alternatively, scale these weights to sum to 1 if preferred.\n",
        "\n",
        "2. Pass these weights to your model's loss function:\n",
        "In PyTorch, pass the weights to the weight argument of your loss function (e.g., CrossEntropyLoss).\n",
        "\n",
        "How This Improves Model Performance?\n",
        "\n",
        "Balances Contribution of Classes: By assigning higher weights to underrepresented classes, the model pays more attention to minority classes during training.\n",
        "Prevents Bias: The model doesn't overfit to majority classes since their contributions to the loss are reduced.\n",
        "\n",
        "Improves Generalization: By focusing on all classes, the model becomes more robust and performs better across all labels, leading to improved accuracy and reduced misclassification."
      ]
    },
    {
      "cell_type": "code",
      "execution_count": 12,
      "metadata": {},
      "outputs": [
        {
          "name": "stdout",
          "output_type": "stream",
          "text": [
            "Label Distribution:\n",
            "sadness: 4666 samples (29.16%)\n",
            "anger: 2159 samples (13.49%)\n",
            "love: 1304 samples (8.15%)\n",
            "surprise: 572 samples (3.57%)\n",
            "fear: 1937 samples (12.11%)\n",
            "joy: 5362 samples (33.51%)\n"
          ]
        }
      ],
      "source": [
        "label_mappings = {\n",
        "    0: 'sadness',\n",
        "    1: 'joy',\n",
        "    2: 'love',\n",
        "    3: 'anger',\n",
        "    4: 'fear',\n",
        "    5: 'surprise'\n",
        "}\n",
        "\n",
        "label_counts = collections.Counter(labels)\n",
        "label_counts_named = {label_mappings[k]: v for k, v in label_counts.items()}\n",
        "total_samples = sum(label_counts_named.values())\n",
        "label_percentages = {label: (count / total_samples) * 100 for label, count in label_counts_named.items()}\n",
        "\n",
        "print(\"Label Distribution:\")\n",
        "for label, count in label_counts_named.items():\n",
        "    percentage = label_percentages[label]\n",
        "    print(f\"{label}: {count} samples ({percentage:.2f}%)\")\n"
      ]
    },
    {
      "cell_type": "code",
      "execution_count": 13,
      "metadata": {},
      "outputs": [
        {
          "data": {
            "image/png": "[encoded data removed]",
            "text/plain": [
              "<Figure size 1000x600 with 1 Axes>"
            ]
          },
          "metadata": {},
          "output_type": "display_data"
        }
      ],
      "source": [
        "sns.set(style=\"whitegrid\")\n",
        "\n",
        "labels_list = list(label_counts_named.keys())\n",
        "counts = list(label_counts_named.values())\n",
        "\n",
        "plt.figure(figsize=(10, 6))\n",
        "bar_plot = sns.barplot(x=labels_list, y=counts, palette=\"viridis\")\n",
        "\n",
        "plt.title('Distribution of Emotion Labels in Training Set', fontsize=16)\n",
        "plt.xlabel('Emotion', fontsize=14)\n",
        "plt.ylabel('Number of Tweets', fontsize=14)\n",
        "\n",
        "for index, value in enumerate(counts):\n",
        "    plt.text(index, value + max(counts)*0.01, str(value), ha='center', va='bottom', fontsize=12)\n",
        "\n",
        "plt.tight_layout()\n",
        "plt.show()\n"
      ]
    },
    {
      "cell_type": "code",
      "execution_count": 14,
      "metadata": {},
      "outputs": [
        {
          "name": "stdout",
          "output_type": "stream",
          "text": [
            "Class Weights: tensor([0.3301, 0.7134, 1.1812, 2.6928, 0.7952, 0.2873])\n"
          ]
        }
      ],
      "source": [
        "class_counts = np.array(counts, dtype=np.float32)\n",
        "class_weights = 1.0 / class_counts\n",
        "class_weights = class_weights * (len(class_counts) / class_weights.sum())\n",
        "class_weights_tensor = torch.tensor(class_weights)\n",
        "\n",
        "print(\"Class Weights:\", class_weights_tensor)"
      ]
    },
    {
      "cell_type": "markdown",
      "metadata": {
        "id": "c-v0Mnh8xIhP"
      },
      "source": [
        "---\n",
        "\n",
        "## Task 7: Creating the Model\n",
        "\n",
        "Design and implement a recurrent neural network for the task. You may utilize a sequential architecture like RNN or GRU to enhance the model's performance.\n",
        "\n",
        "Build and compile your model using Pytorch.\n",
        "\n",
        "**Once the model is created, summarize its structure to verify the design.**\n",
        "\n",
        "---"
      ]
    },
    {
      "cell_type": "code",
      "execution_count": 15,
      "metadata": {},
      "outputs": [],
      "source": [
        "class EmotionBiLSTM(nn.Module):\n",
        "    def __init__(self, vocab_size, embedding_dim, hidden_dim, output_dim, \n",
        "                 n_layers, bidirectional, dropout, pad_idx):\n",
        "        super(EmotionBiLSTM, self).__init__()\n",
        "        \n",
        "        # 1. Embedding Layer\n",
        "        self.embedding = nn.Embedding(vocab_size, embedding_dim, padding_idx=pad_idx)\n",
        "        \n",
        "        # 2. Bidirectional LSTM Layer\n",
        "        self.lstm = nn.LSTM(embedding_dim, \n",
        "                            hidden_dim, \n",
        "                            num_layers=n_layers, \n",
        "                            bidirectional=bidirectional, \n",
        "                            batch_first=True,\n",
        "                            dropout=dropout if n_layers > 1 else 0)\n",
        "        \n",
        "        # 3. Dropout Layer\n",
        "        self.dropout = nn.Dropout(dropout)\n",
        "        \n",
        "        # 4. Fully Connected Layer\n",
        "        self.fc = nn.Linear(hidden_dim * 2 if bidirectional else hidden_dim, output_dim)\n",
        "        \n",
        "    def forward(self, text):\n",
        "        \n",
        "        # 1. Embedding\n",
        "        embedded = self.embedding(text)\n",
        "        \n",
        "        # 2. LSTM\n",
        "        lstm_out, (hidden, cell) = self.lstm(embedded)\n",
        "        \n",
        "        # 3. Concatenate the final forward and backward hidden states\n",
        "        if self.lstm.bidirectional:\n",
        "            hidden = torch.cat((hidden[-2,:,:], hidden[-1,:,:]), dim=1)\n",
        "        else:\n",
        "            hidden = hidden[-1,:,:]\n",
        "        \n",
        "        # 4. Dropout\n",
        "        hidden = self.dropout(hidden)\n",
        "        \n",
        "        # 5. Fully Connected Layer\n",
        "        output = self.fc(hidden)\n",
        "        \n",
        "        return output\n"
      ]
    },
    {
      "cell_type": "code",
      "execution_count": 28,
      "metadata": {},
      "outputs": [],
      "source": [
        "VOCAB_SIZE = tokenizer.vocab_size \n",
        "EMBEDDING_DIM = 128                \n",
        "HIDDEN_DIM = 256           \n",
        "OUTPUT_DIM = 6\n",
        "N_LAYERS = 2\n",
        "BIDIRECTIONAL = True\n",
        "DROPOUT = 0.5                      \n",
        "PAD_IDX = tokenizer.pad_token_id   \n",
        "\n",
        "model = EmotionBiLSTM(\n",
        "    vocab_size=VOCAB_SIZE,\n",
        "    embedding_dim=EMBEDDING_DIM,\n",
        "    hidden_dim=HIDDEN_DIM,\n",
        "    output_dim=OUTPUT_DIM,\n",
        "    n_layers=N_LAYERS,\n",
        "    bidirectional=BIDIRECTIONAL,\n",
        "    dropout=DROPOUT,\n",
        "    pad_idx=PAD_IDX\n",
        ")"
      ]
    },
    {
      "cell_type": "code",
      "execution_count": 29,
      "metadata": {},
      "outputs": [],
      "source": [
        "device = torch.device('cuda' if torch.cuda.is_available() else 'cpu')\n",
        "model = model.to(device)"
      ]
    },
    {
      "cell_type": "code",
      "execution_count": 30,
      "metadata": {},
      "outputs": [
        {
          "data": {
            "text/plain": [
              "=================================================================\n",
              "Layer (type:depth-idx)                   Param #\n",
              "=================================================================\n",
              "EmotionBiLSTM                            --\n",
              "├─Embedding: 1-1                         3,906,816\n",
              "├─LSTM: 1-2                              2,367,488\n",
              "├─Dropout: 1-3                           --\n",
              "├─Linear: 1-4                            3,078\n",
              "=================================================================\n",
              "Total params: 6,277,382\n",
              "Trainable params: 6,277,382\n",
              "Non-trainable params: 0\n",
              "================================================================="
            ]
          },
          "execution_count": 30,
          "metadata": {},
          "output_type": "execute_result"
        }
      ],
      "source": [
        "summary(model)    "
      ]
    },
    {
      "cell_type": "code",
      "execution_count": 31,
      "metadata": {},
      "outputs": [],
      "source": [
        "labels_tensor = torch.tensor(labels)\n",
        "train_dataset = TensorDataset(padded_train_sequences, labels_tensor)\n",
        "BATCH_SIZE = 64\n",
        "train_loader = DataLoader(train_dataset, batch_size=BATCH_SIZE, shuffle=True)"
      ]
    },
    {
      "cell_type": "markdown",
      "metadata": {
        "id": "1HST_CHjxIhR"
      },
      "source": [
        "---\n",
        "\n",
        "## Task 8: Training the Model\n",
        "\n",
        "In this task, you will prepare a validation set and train your model using the training data.\n",
        "\n",
        "1. Prepare the validation set by extracting tweets and labels, and convert them into sequences using the tokenizer.\n",
        "2. Train the model on the training data.\n",
        "3. Ensure that you implement **Early Stopping** to prevent overfitting and enhance efficiency.\n",
        "\n",
        "Make sure to monitor the validation accuracy during training and adjust the parameters as necessary.\n",
        "\n",
        "---"
      ]
    },
    {
      "cell_type": "code",
      "execution_count": 32,
      "metadata": {},
      "outputs": [],
      "source": [
        "val_tweets, val_labels = extract_tweets_labels(validation)\n",
        "padded_val_sequences = get_sequences(tokenizer, val_tweets)\n",
        "val_labels_tensor = torch.tensor(val_labels)\n",
        "val_dataset = TensorDataset(padded_val_sequences, val_labels_tensor)\n",
        "val_loader = DataLoader(val_dataset, batch_size=BATCH_SIZE)"
      ]
    },
    {
      "cell_type": "code",
      "execution_count": 33,
      "metadata": {},
      "outputs": [
        {
          "name": "stdout",
          "output_type": "stream",
          "text": [
            "Epoch 1/50 | Train Loss: 1.4027 | Train Acc: 27.69% | Val Loss: 1.2108 | Val Acc: 38.90%\n",
            "Epoch 2/50 | Train Loss: 0.9395 | Train Acc: 55.61% | Val Loss: 0.8315 | Val Acc: 62.85%\n",
            "Epoch 3/50 | Train Loss: 0.5581 | Train Acc: 74.47% | Val Loss: 0.4561 | Val Acc: 79.25%\n",
            "Epoch 4/50 | Train Loss: 0.3037 | Train Acc: 85.49% | Val Loss: 0.3586 | Val Acc: 87.00%\n",
            "Epoch 5/50 | Train Loss: 0.2058 | Train Acc: 90.11% | Val Loss: 0.3120 | Val Acc: 87.40%\n",
            "Epoch 6/50 | Train Loss: 0.1634 | Train Acc: 92.11% | Val Loss: 0.2769 | Val Acc: 87.65%\n",
            "Epoch 7/50 | Train Loss: 0.1180 | Train Acc: 94.14% | Val Loss: 0.2939 | Val Acc: 89.15%\n",
            "Epoch 8/50 | Train Loss: 0.0880 | Train Acc: 95.32% | Val Loss: 0.3040 | Val Acc: 88.85%\n",
            "Epoch 9/50 | Train Loss: 0.0796 | Train Acc: 95.73% | Val Loss: 0.3368 | Val Acc: 89.60%\n",
            "Epoch 10/50 | Train Loss: 0.0616 | Train Acc: 96.66% | Val Loss: 0.4103 | Val Acc: 89.40%\n",
            "Epoch 11/50 | Train Loss: 0.0498 | Train Acc: 97.21% | Val Loss: 0.4132 | Val Acc: 90.05%\n",
            "Early stopping triggered.\n",
            "Early stopping triggered.\n"
          ]
        }
      ],
      "source": [
        "optimizer = optim.Adam(model.parameters(), lr=1e-3)\n",
        "criterion = nn.CrossEntropyLoss(weight=class_weights_tensor.to(device))\n",
        "criterion = criterion.to(device)\n",
        "\n",
        "train_loss_list = []\n",
        "val_loss_list = []\n",
        "train_acc_list = []\n",
        "val_acc_list = []\n",
        "\n",
        "history = {\n",
        "    'loss': train_loss_list,\n",
        "    'accuracy': train_acc_list,\n",
        "    'val_loss': val_loss_list,\n",
        "    'val_accuracy': val_acc_list\n",
        "}\n",
        "\n",
        "history_obj = SimpleNamespace(history=history)\n",
        "\n",
        "EPOCHS = 50\n",
        "PATIENCE = 5\n",
        "best_val_loss = float('inf')\n",
        "epochs_no_improve = 0\n",
        "early_stop = False\n",
        "best_model_state = None\n",
        "\n",
        "for epoch in range(EPOCHS):\n",
        "    if early_stop:\n",
        "        print(\"Early stopping triggered.\")\n",
        "        break\n",
        "\n",
        "    model.train()\n",
        "    epoch_loss = 0\n",
        "    epoch_correct = 0\n",
        "    epoch_total = 0\n",
        "\n",
        "    for batch in train_loader:\n",
        "        inputs, targets = batch\n",
        "        inputs, targets = inputs.to(device), targets.to(device)\n",
        "\n",
        "        optimizer.zero_grad()\n",
        "\n",
        "        outputs = model(inputs)\n",
        "        loss = criterion(outputs, targets)\n",
        "        loss.backward()\n",
        "        optimizer.step()\n",
        "\n",
        "        epoch_loss += loss.item() * inputs.size(0)\n",
        "        _, preds = torch.max(outputs, 1)\n",
        "        epoch_correct += (preds == targets).sum().item()\n",
        "        epoch_total += inputs.size(0)\n",
        "\n",
        "    train_loss = epoch_loss / epoch_total\n",
        "    train_acc = epoch_correct / epoch_total\n",
        "\n",
        "    model.eval()\n",
        "    val_loss = 0\n",
        "    val_correct = 0\n",
        "    val_total = 0\n",
        "\n",
        "    with torch.no_grad():\n",
        "        for batch in val_loader:\n",
        "            inputs, targets = batch\n",
        "            inputs, targets = inputs.to(device), targets.to(device)\n",
        "\n",
        "            outputs = model(inputs)\n",
        "            loss = criterion(outputs, targets)\n",
        "\n",
        "            val_loss += loss.item() * inputs.size(0)\n",
        "            _, preds = torch.max(outputs, 1)\n",
        "            val_correct += (preds == targets).sum().item()\n",
        "            val_total += inputs.size(0)\n",
        "\n",
        "    val_loss = val_loss / val_total\n",
        "    val_acc = val_correct / val_total\n",
        "\n",
        "    train_loss_list.append(train_loss)\n",
        "    train_acc_list.append(train_acc)\n",
        "    val_loss_list.append(val_loss)\n",
        "    val_acc_list.append(val_acc)\n",
        "\n",
        "    print(f'Epoch {epoch+1}/{EPOCHS} | Train Loss: {train_loss:.4f} | Train Acc: {train_acc*100:.2f}% | Val Loss: {val_loss:.4f} | Val Acc: {val_acc*100:.2f}%')\n",
        "\n",
        "    if val_loss < best_val_loss:\n",
        "        best_val_loss = val_loss\n",
        "        epochs_no_improve = 0\n",
        "        best_model_state = model.state_dict()  # Save the best model\n",
        "    else:\n",
        "        epochs_no_improve += 1\n",
        "\n",
        "    # Check if early stopping should be triggered\n",
        "    if epochs_no_improve >= PATIENCE:\n",
        "        print(\"Early stopping triggered.\")\n",
        "        early_stop = True"
      ]
    },
    {
      "cell_type": "code",
      "execution_count": 34,
      "metadata": {},
      "outputs": [
        {
          "name": "stdout",
          "output_type": "stream",
          "text": [
            "Best model saved to 'best_emotion_bilstm_model.pt'.\n"
          ]
        }
      ],
      "source": [
        "# # Load the best model state\n",
        "# if best_model_state is not None:\n",
        "#     model.load_state_dict(best_model_state)\n",
        "#     print(\"Loaded the best model state.\")\n",
        "# else:\n",
        "#     print(\"No improvement during training.\")\n",
        "\n",
        "# Save the best model to a file\n",
        "torch.save(best_model_state, 'best_emotion_bilstm_model.pt')\n",
        "print(\"Best model saved to 'best_emotion_bilstm_model.pt'.\")\n"
      ]
    },
    {
      "cell_type": "markdown",
      "metadata": {},
      "source": [
        "---\n",
        "\n",
        "## Task 9: Evaluating the Model\n",
        "\n",
        "In this task, you will evaluate the performance of your model on the test set and visualize the training history. You will also analyze the model’s predictions on both individual and complete test samples.\n",
        "\n",
        "### Steps:\n",
        "1. Visualize the loss and accuracy over the training epochs.\n",
        "2. Prepare and preprocess the test data using functions from Task 2.\n",
        "3. Evaluate the model on the test set and examine individual predictions.\n",
        "4. Analyze the overall predictions and display a confusion matrix.\n",
        "\n",
        "---"
      ]
    },
    {
      "cell_type": "code",
      "execution_count": 35,
      "metadata": {
        "id": "ENCfvXeLxIhX"
      },
      "outputs": [
        {
          "data": {
            "image/png": "[encoded data removed]",
            "text/plain": [
              "<Figure size 1600x600 with 2 Axes>"
            ]
          },
          "metadata": {},
          "output_type": "display_data"
        }
      ],
      "source": [
        "history = {\n",
        "    'loss': train_loss_list,\n",
        "    'accuracy': train_acc_list,\n",
        "    'val_loss': val_loss_list,\n",
        "    'val_accuracy': val_acc_list\n",
        "}\n",
        "\n",
        "history_obj = SimpleNamespace(history=history)\n",
        "\n",
        "plot_history(history_obj)"
      ]
    },
    {
      "cell_type": "code",
      "execution_count": 36,
      "metadata": {
        "id": "kWuzoz8uxIha"
      },
      "outputs": [],
      "source": [
        "test_tweets, test_labels = extract_tweets_labels(test)\n",
        "padded_test_sequences = get_sequences(tokenizer, test_tweets, max_length=128)\n",
        "test_labels_tensor = torch.tensor(test_labels)\n",
        "test_dataset = TensorDataset(padded_test_sequences, test_labels_tensor)\n",
        "BATCH_SIZE = 64 \n",
        "test_loader = DataLoader(test_dataset, batch_size=BATCH_SIZE, shuffle=False)\n"
      ]
    },
    {
      "cell_type": "code",
      "execution_count": 37,
      "metadata": {
        "id": "7vRVJ_2SxIhc"
      },
      "outputs": [
        {
          "name": "stdout",
          "output_type": "stream",
          "text": [
            "Test Accuracy: 89.35%\n"
          ]
        }
      ],
      "source": [
        "all_test_preds = []\n",
        "all_test_labels = []\n",
        "\n",
        "model.eval()\n",
        "\n",
        "with torch.no_grad():\n",
        "    for batch in test_loader:\n",
        "        inputs, targets = batch\n",
        "        inputs, targets = inputs.to(device), targets.to(device)\n",
        "\n",
        "        outputs = model(inputs)\n",
        "\n",
        "        _, preds = torch.max(outputs, 1)\n",
        "\n",
        "        all_test_preds.extend(preds.cpu().numpy())\n",
        "        all_test_labels.extend(targets.cpu().numpy())\n",
        "\n",
        "test_correct = sum([p == t for p, t in zip(all_test_preds, all_test_labels)])\n",
        "test_total = len(all_test_labels)\n",
        "test_accuracy = test_correct / test_total\n",
        "\n",
        "print(f'Test Accuracy: {test_accuracy*100:.2f}%')\n"
      ]
    },
    {
      "cell_type": "code",
      "execution_count": 38,
      "metadata": {
        "id": "rh638vHG5ej6"
      },
      "outputs": [
        {
          "data": {
            "image/png": "[encoded data removed]",
            "text/plain": [
              "<Figure size 800x800 with 2 Axes>"
            ]
          },
          "metadata": {},
          "output_type": "display_data"
        }
      ],
      "source": [
        "label_mappings = {\n",
        "    0: 'sadness',\n",
        "    1: 'joy',\n",
        "    2: 'love',\n",
        "    3: 'anger',\n",
        "    4: 'fear',\n",
        "    5: 'surprise'\n",
        "}\n",
        "\n",
        "classes = [label_mappings[i] for i in range(len(label_mappings))]\n",
        "\n",
        "visualize_confusion_matrix(all_test_labels, all_test_preds, classes)\n"
      ]
    },
    {
      "cell_type": "code",
      "execution_count": 39,
      "metadata": {},
      "outputs": [
        {
          "name": "stdout",
          "output_type": "stream",
          "text": [
            "Classification Report:\n",
            "               precision    recall  f1-score   support\n",
            "\n",
            "     sadness       0.95      0.93      0.94       581\n",
            "         joy       0.90      0.93      0.91       695\n",
            "        love       0.81      0.67      0.74       159\n",
            "       anger       0.87      0.94      0.91       275\n",
            "        fear       0.85      0.88      0.86       224\n",
            "    surprise       0.71      0.61      0.66        66\n",
            "\n",
            "    accuracy                           0.89      2000\n",
            "   macro avg       0.85      0.83      0.84      2000\n",
            "weighted avg       0.89      0.89      0.89      2000\n",
            "\n"
          ]
        }
      ],
      "source": [
        "report = classification_report(all_test_labels, all_test_preds, target_names=classes)\n",
        "print(\"Classification Report:\\n\", report)"
      ]
    },
    {
      "cell_type": "markdown",
      "metadata": {},
      "source": [
        "# Final Analysis\n",
        "\n",
        "After visualizing the confusion matrix based on your model’s predictions, analyze the results and provide insights into the model’s classification performance.\n",
        "\n",
        "### **Question:**\n",
        "<span style=\"font-size: 1.2em;\">Which class seems to get confused with the class *love* the most?</span>\n",
        "\n",
        "**Remember the class labels:**\n",
        "- **0:** *Sadness*\n",
        "- **1:** *Joy*\n",
        "- **2:** *Love*\n",
        "- **3:** *Anger*\n",
        "- **4:** *Fear*\n",
        "- **5:** *Surprise*\n",
        "\n",
        "Reflect on the confusion matrix to answer this question and provide your reasoning for why this confusion might occur based on the emotional nature of the classes.\n"
      ]
    },
    {
      "cell_type": "markdown",
      "metadata": {},
      "source": [
        "#### **Reasoning:**\n",
        "- In the confusion matrix, the row for **love** (row index 2) shows a relatively high off-diagonal value in the column for **joy** (column index 1). This indicates that samples labeled as **love** are often predicted as **joy**.\n",
        "- This confusion might occur due to the emotional overlap between the two classes. Both **love** and **joy** are positive emotions and often share similar language, sentiment, or expressions in data, leading the model to struggle in distinguishing them accurately.\n",
        "\n",
        "---\n",
        "\n",
        "#### **Suggestions to Reduce Confusion:**\n",
        "1. **Provide More Representative Data:**\n",
        "   - Collect additional examples of both **love** and **joy** that emphasize their distinct characteristics.\n",
        "2. **Data Augmentation:**\n",
        "   - Use techniques to enrich the dataset with unique samples of each class.\n",
        "3. **Feature Engineering:**\n",
        "   - Extract features specific to each class that better capture their unique semantic or linguistic nuances.\n",
        "\n",
        "By addressing this confusion, the model's performance on distinguishing positive emotions like **love** and **joy** can be significantly improved."
      ]
    },
    {
      "cell_type": "markdown",
      "metadata": {},
      "source": [
        "# **Best regards.**"
      ]
    }
  ],
  "metadata": {
    "accelerator": "GPU",
    "colab": {
      "provenance": []
    },
    "kernelspec": {
      "display_name": "Python 3",
      "language": "python",
      "name": "python3"
    },
    "language_info": {
      "codemirror_mode": {
        "name": "ipython",
        "version": 3
      },
      "file_extension": ".py",
      "mimetype": "text/x-python",
      "name": "python",
      "nbconvert_exporter": "python",
      "pygments_lexer": "ipython3",
      "version": "3.11.9"
    }
  },
  "nbformat": 4,
  "nbformat_minor": 0
}
